{
 "cells": [
  {
   "cell_type": "code",
   "execution_count": 2,
   "metadata": {
    "collapsed": false
   },
   "outputs": [],
   "source": [
    "from nltk.corpus import wordnet as wn\n"
   ]
  },
  {
   "cell_type": "code",
   "execution_count": 3,
   "metadata": {
    "collapsed": false
   },
   "outputs": [
    {
     "data": {
      "text/plain": [
       "[Synset('funny_story.n.01'),\n",
       " Synset('amusing.s.02'),\n",
       " Synset('curious.s.01'),\n",
       " Synset('fishy.s.02'),\n",
       " Synset('funny.s.04')]"
      ]
     },
     "execution_count": 3,
     "metadata": {},
     "output_type": "execute_result"
    }
   ],
   "source": [
    "wn.synsets('funny')"
   ]
  },
  {
   "cell_type": "code",
   "execution_count": 14,
   "metadata": {
    "collapsed": false
   },
   "outputs": [
    {
     "data": {
      "text/plain": [
       "[u'adrenaline',\n",
       " u'adrenocorticotrophin',\n",
       " u'adrenocorticotropin',\n",
       " u'adrenosterone',\n",
       " u'aldosterone',\n",
       " u'amiability',\n",
       " u'androgen',\n",
       " u'androsterone',\n",
       " u'antiserum',\n",
       " u'autacoid',\n",
       " u'autocoid',\n",
       " u'backchat',\n",
       " u'badinage',\n",
       " u'banter',\n",
       " u'bile',\n",
       " u'bite',\n",
       " u'blood',\n",
       " u'bloodstream',\n",
       " u'booger',\n",
       " u'burlesque',\n",
       " u'calcitonin',\n",
       " u'caricature',\n",
       " u'cartoon',\n",
       " u'catecholamine',\n",
       " u'charade',\n",
       " u'cholecystokinin',\n",
       " u'choler',\n",
       " u'chyle',\n",
       " u'clowning',\n",
       " u'colostrum',\n",
       " u'come',\n",
       " u'comedy',\n",
       " u'comicality',\n",
       " u'corticoid',\n",
       " u'corticosteroid',\n",
       " u'corticosterone',\n",
       " u'corticotrophin',\n",
       " u'corticotropin',\n",
       " u'cortisol',\n",
       " u'cortisone',\n",
       " u'crossness',\n",
       " u'cum',\n",
       " u'dexamethasone',\n",
       " u'diethylstilbestrol',\n",
       " u'diethylstilboestrol',\n",
       " u'distemper',\n",
       " u'dribble',\n",
       " u'drivel',\n",
       " u'drollery',\n",
       " u'drool',\n",
       " u'ejaculate',\n",
       " u'endocrine',\n",
       " u'endolymph',\n",
       " u'epinephrin',\n",
       " u'epinephrine',\n",
       " u'estradiol',\n",
       " u'estriol',\n",
       " u'estrogen',\n",
       " u'estrone',\n",
       " u'festering',\n",
       " u'foremilk',\n",
       " u'fretfulness',\n",
       " u'fun',\n",
       " u'funnies',\n",
       " u'funniness',\n",
       " u'funny',\n",
       " u'fussiness',\n",
       " u'gag',\n",
       " u'gall',\n",
       " u'ganoin',\n",
       " u'ganoine',\n",
       " u'gastrin',\n",
       " u'ghrelin',\n",
       " u'gleet',\n",
       " u'glucagon',\n",
       " u'glucocorticoid',\n",
       " u'glumness',\n",
       " u'gonadotrophin',\n",
       " u'gonadotropin',\n",
       " u'gore',\n",
       " u'grume',\n",
       " u'hexestrol',\n",
       " u'hormone',\n",
       " u'howler',\n",
       " u'hydrocortisone',\n",
       " u'ichor',\n",
       " u'imitation',\n",
       " u'impersonation',\n",
       " u'ink',\n",
       " u'insulin',\n",
       " u'irony',\n",
       " u'irritability',\n",
       " u'jape',\n",
       " u'jest',\n",
       " u'jocosity',\n",
       " u'jocularity',\n",
       " u'joke',\n",
       " u'jolliness',\n",
       " u'jollity',\n",
       " u'joviality',\n",
       " u'juice',\n",
       " u'karyolymph',\n",
       " u'lampoon',\n",
       " u'laugh',\n",
       " u'leucorrhea',\n",
       " u'leukorrhea',\n",
       " u'lifeblood',\n",
       " u'liothyronine',\n",
       " u'lochia',\n",
       " u'luteotropin',\n",
       " u'lymph',\n",
       " u'medroxyprogesterone',\n",
       " u'megestrol',\n",
       " u'melancholy',\n",
       " u'melatonin',\n",
       " u'menorrhea',\n",
       " u'mestranol',\n",
       " u'methyltestosterone',\n",
       " u'milk',\n",
       " u'milt',\n",
       " u'mineralocorticoid',\n",
       " u'mockery',\n",
       " u'moodiness',\n",
       " u'moroseness',\n",
       " u'mot',\n",
       " u'motilin',\n",
       " u'mucus',\n",
       " u'musk',\n",
       " u'nandrolone',\n",
       " u'nectar',\n",
       " u'neurohormone',\n",
       " u'noradrenaline',\n",
       " u'norepinephrine',\n",
       " u'norethandrolone',\n",
       " u'norethindrone',\n",
       " u'norethynodrel',\n",
       " u'norgestrel',\n",
       " u'oestradiol',\n",
       " u'oestriol',\n",
       " u'oestrogen',\n",
       " u'oestrone',\n",
       " u'oxytocin',\n",
       " u'parathormone',\n",
       " u'parody',\n",
       " u'paronomasia',\n",
       " u'pasquinade',\n",
       " u'peeve',\n",
       " u'peevishness',\n",
       " u'perilymph',\n",
       " u'persiflage',\n",
       " u'perspiration',\n",
       " u'pet',\n",
       " u'petulance',\n",
       " u'pheromone',\n",
       " u'phlegm',\n",
       " u'plasm',\n",
       " u'plasma',\n",
       " u'play',\n",
       " u'prednisolone',\n",
       " u'prednisone',\n",
       " u'progesterone',\n",
       " u'progestin',\n",
       " u'progestogen',\n",
       " u'prolactin',\n",
       " u'prostaglandin',\n",
       " u'protirelin',\n",
       " u'pun',\n",
       " u'pungency',\n",
       " u'punning',\n",
       " u'purulence',\n",
       " u'pus',\n",
       " u'raillery',\n",
       " u'relaxin',\n",
       " u'repartee',\n",
       " u'ribaldry',\n",
       " u'riot',\n",
       " u'saliva',\n",
       " u'sanies',\n",
       " u'sarcasm',\n",
       " u'satire',\n",
       " u'scream',\n",
       " u'sebum',\n",
       " u'secretin',\n",
       " u'secretion',\n",
       " u'seed',\n",
       " u'semen',\n",
       " u'sendup',\n",
       " u'serum',\n",
       " u'sidesplitter',\n",
       " u'sketch',\n",
       " u'slobber',\n",
       " u'smegma',\n",
       " u'snot',\n",
       " u'somatotrophin',\n",
       " u'somatotropin',\n",
       " u'spironolactone',\n",
       " u'spit',\n",
       " u'spittle',\n",
       " u'spoof',\n",
       " u'sport',\n",
       " u'sputum',\n",
       " u'steroid',\n",
       " u'stilbestrol',\n",
       " u'stilboestrol',\n",
       " u'strip',\n",
       " u'succus',\n",
       " u'sudor',\n",
       " u'sulk',\n",
       " u'sulkiness',\n",
       " u'sullenness',\n",
       " u'suppuration',\n",
       " u'sweat',\n",
       " u'synovia',\n",
       " u'takeoff',\n",
       " u'testiness',\n",
       " u'testosterone',\n",
       " u'tetchiness',\n",
       " u'tetraiodothyronine',\n",
       " u'theelin',\n",
       " u'thymosin',\n",
       " u'thyrocalcitonin',\n",
       " u'thyrotrophin',\n",
       " u'thyrotropin',\n",
       " u'thyroxin',\n",
       " u'thyroxine',\n",
       " u'topper',\n",
       " u'touchiness',\n",
       " u'travesty',\n",
       " u'triamcinolone',\n",
       " u'triiodothyronine',\n",
       " u'vasopressin',\n",
       " u'waggery',\n",
       " u'waggishness',\n",
       " u'waters',\n",
       " u'whey',\n",
       " u'wordplay',\n",
       " u'wow']"
      ]
     },
     "execution_count": 14,
     "metadata": {},
     "output_type": "execute_result"
    }
   ],
   "source": [
    "from nltk.corpus import wordnet as wn\n",
    "import re\n",
    "moodList = wn.synsets('humor')\n",
    "finalMoodList = [list(mood.closure(lambda s: s.hyponyms())) for mood in moodList]\n",
    "finalMoodList = [item.lemma_names() for moodList in finalMoodList for item in moodList]\n",
    "finalMoodList = [item for moodList in finalMoodList for item in moodList]\n",
    "pattern = re.compile(r'[A-Z]|\\_|\\-')\n",
    "finalMoodList = [elem for elem in finalMoodList if not pattern.findall(elem)]\n",
    "#finalMoodList = [list(mood.closure(lambda s: s.hypernyms())) for mood in moodList]\n",
    "finalMoodList = set(finalMoodList)\n",
    "finalMoodList = sorted(finalMoodList)\n",
    "finalMoodList\n",
    "#hypo = lambda s: s.hyponyms()\n",
    "#hyper = lambda s: s.hypernyms()\n",
    "#list(dog.closure(hypo, depth=1)) == dog.hyponyms()\n",
    "#list(dog.closure(hyper, depth=1)) == dog.hypernyms()\n",
    "#list(dog.closure(hypo))"
   ]
  },
  {
   "cell_type": "code",
   "execution_count": 15,
   "metadata": {
    "collapsed": false
   },
   "outputs": [
    {
     "data": {
      "text/plain": [
       "u'play'"
      ]
     },
     "execution_count": 15,
     "metadata": {},
     "output_type": "execute_result"
    }
   ],
   "source": [
    "wn.morphy('plays')"
   ]
  },
  {
   "cell_type": "code",
   "execution_count": 16,
   "metadata": {
    "collapsed": true
   },
   "outputs": [],
   "source": [
    "testStr = \"I bought this for my husband who plays the piano.  He is having a wonderful time playing these old hymns.  The music  is at times hard to read because we think the book was published for singing from more than playing from.  Great purchase though!\""
   ]
  },
  {
   "cell_type": "code",
   "execution_count": 17,
   "metadata": {
    "collapsed": false
   },
   "outputs": [
    {
     "data": {
      "text/plain": [
       "Counter({u'play': 1})"
      ]
     },
     "execution_count": 17,
     "metadata": {},
     "output_type": "execute_result"
    }
   ],
   "source": [
    "from collections import Counter\n",
    "import nltk\n",
    "from nltk.tokenize import TweetTokenizer\n",
    "tknzr = TweetTokenizer(strip_handles=True, reduce_len=True)\n",
    "cnt = Counter()\n",
    "for word in tknzr.tokenize(testStr):\n",
    "    word = wn.morphy(word)\n",
    "    if word in finalMoodList: cnt[word] += 1\n",
    "    #cnt[word] += 1\n",
    "cnt\n"
   ]
  },
  {
   "cell_type": "code",
   "execution_count": 19,
   "metadata": {
    "collapsed": false
   },
   "outputs": [],
   "source": [
    "#reviewerSummaryRDD1 = rating.map(lambda row: (row.asin, row.reviewText))"
   ]
  },
  {
   "cell_type": "code",
   "execution_count": null,
   "metadata": {
    "collapsed": true
   },
   "outputs": [],
   "source": [
    "from nltk.corpus import movie_reviews\n",
    "import random\n",
    "documents = [(list(movie_reviews.words(fileid)), category) \\\n",
    "    for category in movie_reviews.categories() \\\n",
    "    for fileid in movie_reviews.fileids(category)]\n",
    "random.shuffle(documents)\n",
    "all_words = nltk.FreqDist(w.lower() for w in movie_reviews.words())\n",
    "word_features = list(all_words)[:2000]\n",
    "\n",
    "def document_features(document):\n",
    "    document_words = set(document)\n",
    "    features = {}\n",
    "    for word in word_features:\n",
    "        features['contains({})'.format(word)] = (word in document_words)\n",
    "    return features\n",
    "#print(document_features(movie_reviews.words('pos/cv957_8737.txt'))) \n",
    "featuresets = [(document_features(d), c) for (d,c) in documents]\n",
    "train_set, test_set = featuresets[100:], featuresets[:100]\n",
    "classifier = nltk.NaiveBayesClassifier.train(train_set)\n",
    "classifier.show_most_informative_features(5)"
   ]
  },
  {
   "cell_type": "code",
   "execution_count": null,
   "metadata": {
    "collapsed": true
   },
   "outputs": [],
   "source": []
  }
 ],
 "metadata": {
  "kernelspec": {
   "display_name": "Python 2",
   "language": "python",
   "name": "python2"
  },
  "language_info": {
   "codemirror_mode": {
    "name": "ipython",
    "version": 2
   },
   "file_extension": ".py",
   "mimetype": "text/x-python",
   "name": "python",
   "nbconvert_exporter": "python",
   "pygments_lexer": "ipython2",
   "version": "2.7.6"
  }
 },
 "nbformat": 4,
 "nbformat_minor": 0
}
