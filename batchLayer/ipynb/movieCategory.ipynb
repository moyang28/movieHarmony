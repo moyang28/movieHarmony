{
 "cells": [
  {
   "cell_type": "code",
   "execution_count": 1,
   "metadata": {
    "collapsed": false
   },
   "outputs": [
    {
     "name": "stdout",
     "output_type": "stream",
     "text": [
      "root\n",
      " |-- asin: string (nullable = true)\n",
      " |-- brand: string (nullable = true)\n",
      " |-- categories: array (nullable = true)\n",
      " |    |-- element: array (containsNull = true)\n",
      " |    |    |-- element: string (containsNull = true)\n",
      " |-- imUrl: string (nullable = true)\n",
      " |-- price: double (nullable = true)\n",
      " |-- related: struct (nullable = true)\n",
      " |    |-- also_bought: array (nullable = true)\n",
      " |    |    |-- element: string (containsNull = true)\n",
      " |    |-- also_viewed: array (nullable = true)\n",
      " |    |    |-- element: string (containsNull = true)\n",
      " |    |-- bought_together: array (nullable = true)\n",
      " |    |    |-- element: string (containsNull = true)\n",
      " |    |-- buy_after_viewing: array (nullable = true)\n",
      " |    |    |-- element: string (containsNull = true)\n",
      " |-- salesRank: struct (nullable = true)\n",
      " |    |-- Arts, Crafts & Sewing: long (nullable = true)\n",
      " |    |-- Books: long (nullable = true)\n",
      " |    |-- Electronics: long (nullable = true)\n",
      " |    |-- Health & Personal Care: long (nullable = true)\n",
      " |    |-- Home &amp; Kitchen: long (nullable = true)\n",
      " |    |-- Industrial & Scientific: long (nullable = true)\n",
      " |    |-- Movies & TV: long (nullable = true)\n",
      " |    |-- Music: long (nullable = true)\n",
      " |    |-- Pet Supplies: long (nullable = true)\n",
      " |    |-- Software: long (nullable = true)\n",
      " |    |-- Sports &amp; Outdoors: long (nullable = true)\n",
      " |    |-- Toys & Games: long (nullable = true)\n",
      " |    |-- Video Games: long (nullable = true)\n",
      " |-- title: string (nullable = true)\n",
      "\n"
     ]
    }
   ],
   "source": [
    "from pyspark.sql import SQLContext\n",
    "sqlContext = SQLContext(sc)\n",
    "df = sqlContext.read.json(\"s3n://patricks3db/meta_Movies_and_TV.json\")\n",
    "df.printSchema()"
   ]
  },
  {
   "cell_type": "code",
   "execution_count": 2,
   "metadata": {
    "collapsed": false
   },
   "outputs": [
    {
     "data": {
      "text/plain": [
       "[Row(categories=[[u'Movies & TV', u'Movies']]),\n",
       " Row(categories=[[u'Movies & TV', u'Movies']]),\n",
       " Row(categories=[[u'Movies & TV', u'Movies']]),\n",
       " Row(categories=[[u'Movies & TV', u'Movies']]),\n",
       " Row(categories=[[u'Movies & TV', u'Movies']]),\n",
       " Row(categories=[[u'Movies & TV', u'Movies']]),\n",
       " Row(categories=[[u'Movies & TV', u'Movies']]),\n",
       " Row(categories=[[u'Movies & TV', u'Movies']]),\n",
       " Row(categories=[[u'Movies & TV', u'Movies']]),\n",
       " Row(categories=[[u'Movies & TV', u'Movies']]),\n",
       " Row(categories=[[u'Movies & TV', u'Movies']]),\n",
       " Row(categories=[[u'Movies & TV', u'Movies']]),\n",
       " Row(categories=[[u'Movies & TV', u'Movies']]),\n",
       " Row(categories=[[u'Movies & TV', u'Movies']]),\n",
       " Row(categories=[[u'Movies & TV', u'Movies']]),\n",
       " Row(categories=[[u'Movies & TV', u'Movies']]),\n",
       " Row(categories=[[u'Movies & TV', u'Movies']]),\n",
       " Row(categories=[[u'Movies & TV', u'TV']]),\n",
       " Row(categories=[[u'Movies & TV', u'Movies']]),\n",
       " Row(categories=[[u'Movies & TV', u'Movies']]),\n",
       " Row(categories=[[u'CDs & Vinyl', u\"Children's Music\"], [u'Movies & TV', u'Movies']]),\n",
       " Row(categories=[[u'Movies & TV', u'Movies']]),\n",
       " Row(categories=[[u'Movies & TV', u'Movies']]),\n",
       " Row(categories=[[u'Movies & TV', u'TV']]),\n",
       " Row(categories=[[u'Movies & TV', u'Movies']]),\n",
       " Row(categories=[[u'Movies & TV', u'Movies']]),\n",
       " Row(categories=[[u'Movies & TV', u'Movies']]),\n",
       " Row(categories=[[u'Movies & TV', u'Movies']]),\n",
       " Row(categories=[[u'CDs & Vinyl', u\"Children's Music\"], [u'Movies & TV', u'Movies']]),\n",
       " Row(categories=[[u'Movies & TV', u'Movies']]),\n",
       " Row(categories=[[u'Movies & TV', u'TV']]),\n",
       " Row(categories=[[u'Movies & TV', u'Movies']]),\n",
       " Row(categories=[[u'Movies & TV', u'Movies']]),\n",
       " Row(categories=[[u'Movies & TV', u'Movies']]),\n",
       " Row(categories=[[u'Movies & TV', u'Movies']]),\n",
       " Row(categories=[[u'Movies & TV', u'Movies']]),\n",
       " Row(categories=[[u'Movies & TV', u'Movies']]),\n",
       " Row(categories=[[u'Movies & TV', u'Movies']]),\n",
       " Row(categories=[[u'Movies & TV', u'Movies']]),\n",
       " Row(categories=[[u'Movies & TV', u'TV']]),\n",
       " Row(categories=[[u'Movies & TV', u'Movies']]),\n",
       " Row(categories=[[u'Movies & TV', u'Movies']]),\n",
       " Row(categories=[[u'Movies & TV', u'TV']]),\n",
       " Row(categories=[[u'Movies & TV', u'TV']]),\n",
       " Row(categories=[[u'Movies & TV', u'Movies']]),\n",
       " Row(categories=[[u'Movies & TV', u'Movies']]),\n",
       " Row(categories=[[u'Movies & TV', u'Movies']]),\n",
       " Row(categories=[[u'Movies & TV', u'Movies']]),\n",
       " Row(categories=[[u'Movies & TV', u'Movies']]),\n",
       " Row(categories=[[u'Movies & TV', u'Movies']]),\n",
       " Row(categories=[[u'Movies & TV', u'Movies']]),\n",
       " Row(categories=[[u'Movies & TV', u'Movies']]),\n",
       " Row(categories=[[u'Movies & TV', u'Movies']]),\n",
       " Row(categories=[[u'Movies & TV', u'TV']]),\n",
       " Row(categories=[[u'Movies & TV', u'Movies']]),\n",
       " Row(categories=[[u'Movies & TV', u'Movies']]),\n",
       " Row(categories=[[u'Movies & TV', u'Movies']]),\n",
       " Row(categories=[[u'Movies & TV', u'TV']]),\n",
       " Row(categories=[[u'Movies & TV', u'Movies']]),\n",
       " Row(categories=[[u'Movies & TV', u'TV']]),\n",
       " Row(categories=[[u'Movies & TV', u'TV']]),\n",
       " Row(categories=[[u'Movies & TV', u'TV']]),\n",
       " Row(categories=[[u'Movies & TV', u'Movies']]),\n",
       " Row(categories=[[u'Movies & TV', u'Movies']]),\n",
       " Row(categories=[[u'Movies & TV', u'TV']]),\n",
       " Row(categories=[[u'Movies & TV', u'TV'], [u'Software', u'Education & Reference']]),\n",
       " Row(categories=[[u'Movies & TV', u'TV']]),\n",
       " Row(categories=[[u'Movies & TV', u'TV']]),\n",
       " Row(categories=[[u'Movies & TV', u'TV']]),\n",
       " Row(categories=[[u'Movies & TV', u'TV']]),\n",
       " Row(categories=[[u'Movies & TV', u'TV']]),\n",
       " Row(categories=[[u'Movies & TV', u'Movies']]),\n",
       " Row(categories=[[u'Movies & TV', u'Movies']]),\n",
       " Row(categories=[[u'Movies & TV', u'Movies']]),\n",
       " Row(categories=[[u'Movies & TV', u'Movies']]),\n",
       " Row(categories=[[u'Movies & TV', u'Movies']]),\n",
       " Row(categories=[[u'CDs & Vinyl', u\"Children's Music\"], [u'Movies & TV', u'Movies']]),\n",
       " Row(categories=[[u'CDs & Vinyl', u\"Children's Music\"], [u'Movies & TV', u'Movies']]),\n",
       " Row(categories=[[u'Movies & TV', u'Movies']]),\n",
       " Row(categories=[[u'CDs & Vinyl', u\"Children's Music\"], [u'Movies & TV', u'Movies']]),\n",
       " Row(categories=[[u'Movies & TV', u'Movies']]),\n",
       " Row(categories=[[u'CDs & Vinyl', u\"Children's Music\"], [u'Movies & TV', u'Movies']]),\n",
       " Row(categories=[[u'Movies & TV', u'Movies']]),\n",
       " Row(categories=[[u'Movies & TV', u'Movies']]),\n",
       " Row(categories=[[u'CDs & Vinyl', u\"Children's Music\"], [u'Movies & TV', u'Movies']]),\n",
       " Row(categories=[[u'CDs & Vinyl', u\"Children's Music\"], [u'Movies & TV', u'TV']]),\n",
       " Row(categories=[[u'Movies & TV', u'Movies']]),\n",
       " Row(categories=[[u'CDs & Vinyl', u\"Children's Music\"], [u'Movies & TV', u'Movies']]),\n",
       " Row(categories=[[u'Movies & TV', u'Movies']]),\n",
       " Row(categories=[[u'CDs & Vinyl', u\"Children's Music\"], [u'Movies & TV', u'Movies']]),\n",
       " Row(categories=[[u'CDs & Vinyl', u\"Children's Music\"], [u'Movies & TV', u'Movies']]),\n",
       " Row(categories=[[u'CDs & Vinyl', u\"Children's Music\"], [u'Movies & TV', u'Movies']]),\n",
       " Row(categories=[[u'Movies & TV', u'Movies']]),\n",
       " Row(categories=[[u'Movies & TV', u'Movies']]),\n",
       " Row(categories=[[u'CDs & Vinyl', u\"Children's Music\"], [u'Movies & TV', u'Movies']]),\n",
       " Row(categories=[[u'Movies & TV', u'Movies']]),\n",
       " Row(categories=[[u'Movies & TV', u'Movies']]),\n",
       " Row(categories=[[u'CDs & Vinyl', u\"Children's Music\"], [u'Movies & TV', u'Movies']]),\n",
       " Row(categories=[[u'Movies & TV', u'Movies']]),\n",
       " Row(categories=[[u'CDs & Vinyl', u\"Children's Music\"], [u'Movies & TV', u'Movies']])]"
      ]
     },
     "execution_count": 2,
     "metadata": {},
     "output_type": "execute_result"
    }
   ],
   "source": [
    "df.select(\"categories\").take(100)"
   ]
  },
  {
   "cell_type": "code",
   "execution_count": null,
   "metadata": {
    "collapsed": true
   },
   "outputs": [],
   "source": []
  }
 ],
 "metadata": {
  "kernelspec": {
   "display_name": "Python 2",
   "language": "python",
   "name": "python2"
  },
  "language_info": {
   "codemirror_mode": {
    "name": "ipython",
    "version": 2
   },
   "file_extension": ".py",
   "mimetype": "text/x-python",
   "name": "python",
   "nbconvert_exporter": "python",
   "pygments_lexer": "ipython2",
   "version": "2.7.6"
  }
 },
 "nbformat": 4,
 "nbformat_minor": 0
}
