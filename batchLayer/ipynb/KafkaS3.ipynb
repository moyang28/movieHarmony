{
 "cells": [
  {
   "cell_type": "code",
   "execution_count": null,
   "metadata": {
    "collapsed": true
   },
   "outputs": [],
   "source": [
    "import json"
   ]
  },
  {
   "cell_type": "code",
   "execution_count": 1,
   "metadata": {
    "collapsed": true
   },
   "outputs": [],
   "source": [
    "from kafka import KafkaClient, SimpleConsumer\n",
    "kafka = KafkaClient(\"ec2-52-26-15-148.us-west-2.compute.amazonaws.com:9092\")\n",
    "consumer = SimpleConsumer(kafka, \"my-group\", \"moviereview9\")\n"
   ]
  },
  {
   "cell_type": "code",
   "execution_count": 10,
   "metadata": {
    "collapsed": false
   },
   "outputs": [
    {
     "name": "stdout",
     "output_type": "stream",
     "text": [
      "[OffsetAndMessage(offset=5, message=Message(magic=0, attributes=0, key=None, value='{\"reviewerID\": \"888888\", \"asin\": \"B000003K81\", \"reviewerName\": null, \"helpful\": null, \"unixReviewTime\": null, \"reviewText\": \"Really_interesting_movie_\", \"overall\": 4.0, \"reviewTime\": null, \"summary\": \"I_love_this_movie\"}')), OffsetAndMessage(offset=6, message=Message(magic=0, attributes=0, key=None, value='{\"reviewerID\": \"888888\", \"asin\": \"B000003K81\", \"reviewerName\": null, \"helpful\": null, \"unixReviewTime\": null, \"reviewText\": \"Really_interesting_movie_\", \"overall\": 4.0, \"reviewTime\": null, \"summary\": \"I_love_this_movie\"}')), OffsetAndMessage(offset=7, message=Message(magic=0, attributes=0, key=None, value='{\"reviewerID\": \"888888\", \"asin\": \"B000003K81\", \"reviewerName\": null, \"helpful\": null, \"unixReviewTime\": null, \"reviewText\": \"Really_interesting_movie_\", \"overall\": 4.0, \"reviewTime\": null, \"summary\": \"I_love_this_movie\"}')), OffsetAndMessage(offset=8, message=Message(magic=0, attributes=0, key=None, value='{\"reviewerID\": \"888888\", \"asin\": \"B000003K81\", \"reviewerName\": null, \"helpful\": null, \"unixReviewTime\": null, \"reviewText\": \"Really_interesting_movie_\", \"overall\": 4.0, \"reviewTime\": null, \"summary\": \"I_love_this_movie\"}')), OffsetAndMessage(offset=9, message=Message(magic=0, attributes=0, key=None, value='{\"reviewerID\": \"888888\", \"asin\": \"B000003K81\", \"reviewerName\": null, \"helpful\": null, \"unixReviewTime\": null, \"reviewText\": \"Really_interesting_movie_\", \"overall\": 4.0, \"reviewTime\": null, \"summary\": \"I_love_this_movie\"}')), OffsetAndMessage(offset=16, message=Message(magic=0, attributes=0, key=None, value='{\"reviewerID\": \"888888\", \"asin\": \"B000003K81\", \"reviewerName\": null, \"helpful\": null, \"unixReviewTime\": null, \"reviewText\": \"Really_interesting_movie_\", \"overall\": 4.0, \"reviewTime\": null, \"summary\": \"I_love_this_movie\"}')), OffsetAndMessage(offset=17, message=Message(magic=0, attributes=0, key=None, value='{\"reviewerID\": \"888888\", \"asin\": \"B000003K81\", \"reviewerName\": null, \"helpful\": null, \"unixReviewTime\": null, \"reviewText\": \"Really_interesting_movie_\", \"overall\": 4.0, \"reviewTime\": null, \"summary\": \"I_love_this_movie\"}'))]\n"
     ]
    }
   ],
   "source": [
    "#time.sleep(6)\n",
    "messages = consumer.get_messages(100)\n",
    "print messages"
   ]
  },
  {
   "cell_type": "code",
   "execution_count": 41,
   "metadata": {
    "collapsed": false,
    "scrolled": true
   },
   "outputs": [
    {
     "name": "stdout",
     "output_type": "stream",
     "text": [
      "[{u'reviewerID': u'888888', u'asin': u'B000003K81', u'reviewerName': None, u'helpful': None, u'reviewText': u'Really_interesting_movie_', u'overall': 4.0, u'summary': u'I_love_this_movie', u'unixReviewTime': None, u'reviewTime': None}, {u'reviewerID': u'888888', u'asin': u'B000003K81', u'reviewerName': None, u'helpful': None, u'reviewText': u'Really_interesting_movie_', u'overall': 4.0, u'summary': u'I_love_this_movie', u'unixReviewTime': None, u'reviewTime': None}, {u'reviewerID': u'888888', u'asin': u'B000003K81', u'reviewerName': None, u'helpful': None, u'reviewText': u'Really_interesting_movie_', u'overall': 4.0, u'summary': u'I_love_this_movie', u'unixReviewTime': None, u'reviewTime': None}, {u'reviewerID': u'888888', u'asin': u'B000003K81', u'reviewerName': None, u'helpful': None, u'reviewText': u'Really_interesting_movie_', u'overall': 4.0, u'summary': u'I_love_this_movie', u'unixReviewTime': None, u'reviewTime': None}, {u'reviewerID': u'888888', u'asin': u'B000003K81', u'reviewerName': None, u'helpful': None, u'reviewText': u'Really_interesting_movie_', u'overall': 4.0, u'summary': u'I_love_this_movie', u'unixReviewTime': None, u'reviewTime': None}, {u'reviewerID': u'888888', u'asin': u'B000003K81', u'reviewerName': None, u'helpful': None, u'reviewText': u'Really_interesting_movie_', u'overall': 4.0, u'summary': u'I_love_this_movie', u'unixReviewTime': None, u'reviewTime': None}, {u'reviewerID': u'888888', u'asin': u'B000003K81', u'reviewerName': None, u'helpful': None, u'reviewText': u'Really_interesting_movie_', u'overall': 4.0, u'summary': u'I_love_this_movie', u'unixReviewTime': None, u'reviewTime': None}]\n"
     ]
    }
   ],
   "source": [
    "jsonList = [json.loads(message.message.value). for message in messages]\n",
    "print jsonList"
   ]
  },
  {
   "cell_type": "code",
   "execution_count": 42,
   "metadata": {
    "collapsed": false
   },
   "outputs": [
    {
     "name": "stdout",
     "output_type": "stream",
     "text": [
      "[{\"reviewerID\": \"888888\", \"asin\": \"B000003K81\", \"reviewerName\": null, \"helpful\": null, \"reviewText\": \"Really_interesting_movie_\", \"overall\": 4.0, \"summary\": \"I_love_this_movie\", \"unixReviewTime\": null, \"reviewTime\": null}, {\"reviewerID\": \"888888\", \"asin\": \"B000003K81\", \"reviewerName\": null, \"helpful\": null, \"reviewText\": \"Really_interesting_movie_\", \"overall\": 4.0, \"summary\": \"I_love_this_movie\", \"unixReviewTime\": null, \"reviewTime\": null}, {\"reviewerID\": \"888888\", \"asin\": \"B000003K81\", \"reviewerName\": null, \"helpful\": null, \"reviewText\": \"Really_interesting_movie_\", \"overall\": 4.0, \"summary\": \"I_love_this_movie\", \"unixReviewTime\": null, \"reviewTime\": null}, {\"reviewerID\": \"888888\", \"asin\": \"B000003K81\", \"reviewerName\": null, \"helpful\": null, \"reviewText\": \"Really_interesting_movie_\", \"overall\": 4.0, \"summary\": \"I_love_this_movie\", \"unixReviewTime\": null, \"reviewTime\": null}, {\"reviewerID\": \"888888\", \"asin\": \"B000003K81\", \"reviewerName\": null, \"helpful\": null, \"reviewText\": \"Really_interesting_movie_\", \"overall\": 4.0, \"summary\": \"I_love_this_movie\", \"unixReviewTime\": null, \"reviewTime\": null}, {\"reviewerID\": \"888888\", \"asin\": \"B000003K81\", \"reviewerName\": null, \"helpful\": null, \"reviewText\": \"Really_interesting_movie_\", \"overall\": 4.0, \"summary\": \"I_love_this_movie\", \"unixReviewTime\": null, \"reviewTime\": null}, {\"reviewerID\": \"888888\", \"asin\": \"B000003K81\", \"reviewerName\": null, \"helpful\": null, \"reviewText\": \"Really_interesting_movie_\", \"overall\": 4.0, \"summary\": \"I_love_this_movie\", \"unixReviewTime\": null, \"reviewTime\": null}]\n"
     ]
    }
   ],
   "source": [
    "print json.dumps(jsonList)"
   ]
  },
  {
   "cell_type": "code",
   "execution_count": 43,
   "metadata": {
    "collapsed": true
   },
   "outputs": [],
   "source": [
    "from boto.s3.connection import S3Connection\n",
    "from boto.s3.key import Key\n",
    "conn = S3Connection()\n",
    "conn = S3Connection()\n",
    "bucket = conn.get_bucket('patricks3db')\n",
    "#key = bucket.get_key(\"meta_Movies_and_TV.json\")"
   ]
  },
  {
   "cell_type": "code",
   "execution_count": 44,
   "metadata": {
    "collapsed": false
   },
   "outputs": [],
   "source": [
    "k = Key(bucket)"
   ]
  },
  {
   "cell_type": "code",
   "execution_count": 45,
   "metadata": {
    "collapsed": false
   },
   "outputs": [
    {
     "data": {
      "text/plain": [
       "1554"
      ]
     },
     "execution_count": 45,
     "metadata": {},
     "output_type": "execute_result"
    }
   ],
   "source": [
    "import time\n",
    "k.key = '/moviereviews/' + time.strftime(\"%Y%m%d-%H%M%S\") + \".json\"\n",
    "k.set_contents_from_string(json.dumps(jsonList))"
   ]
  },
  {
   "cell_type": "code",
   "execution_count": null,
   "metadata": {
    "collapsed": true
   },
   "outputs": [],
   "source": []
  }
 ],
 "metadata": {
  "kernelspec": {
   "display_name": "Python 2",
   "language": "python",
   "name": "python2"
  },
  "language_info": {
   "codemirror_mode": {
    "name": "ipython",
    "version": 2
   },
   "file_extension": ".py",
   "mimetype": "text/x-python",
   "name": "python",
   "nbconvert_exporter": "python",
   "pygments_lexer": "ipython2",
   "version": "2.7.6"
  }
 },
 "nbformat": 4,
 "nbformat_minor": 0
}
