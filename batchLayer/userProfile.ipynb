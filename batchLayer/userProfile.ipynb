{
 "cells": [
  {
   "cell_type": "code",
   "execution_count": 59,
   "metadata": {
    "collapsed": false
   },
   "outputs": [
    {
     "name": "stdout",
     "output_type": "stream",
     "text": [
      "root\n",
      " |-- asin: string (nullable = true)\n",
      " |-- helpful: array (nullable = true)\n",
      " |    |-- element: long (containsNull = true)\n",
      " |-- overall: double (nullable = true)\n",
      " |-- reviewText: string (nullable = true)\n",
      " |-- reviewTime: string (nullable = true)\n",
      " |-- reviewerID: string (nullable = true)\n",
      " |-- reviewerName: string (nullable = true)\n",
      " |-- summary: string (nullable = true)\n",
      " |-- unixReviewTime: long (nullable = true)\n",
      "\n"
     ]
    }
   ],
   "source": [
    "from pyspark.sql import SQLContext\n",
    "sqlContext = SQLContext(sc)\n",
    "df = sqlContext.read.json(\"s3n://patricks3db/reviews_Movies_and_TV.json\")\n",
    "df.printSchema()"
   ]
  },
  {
   "cell_type": "code",
   "execution_count": 60,
   "metadata": {
    "collapsed": false
   },
   "outputs": [],
   "source": [
    "# check mrubash1/Origin for downloading and updating to s3"
   ]
  },
  {
   "cell_type": "code",
   "execution_count": 61,
   "metadata": {
    "collapsed": false
   },
   "outputs": [
    {
     "data": {
      "text/plain": [
       "['asin', 'overall', 'reviewerID', 'reviewerName', 'summary']"
      ]
     },
     "execution_count": 61,
     "metadata": {},
     "output_type": "execute_result"
    }
   ],
   "source": [
    "ratings = df\n",
    "ratings = ratings.drop(\"helpful\")\n",
    "ratings = ratings.drop(\"reviewText\")\n",
    "ratings = ratings.drop(\"reviewTime\")\n",
    "#ratings = ratings.drop(\"reviewerName\")\n",
    "#ratings = ratings.drop(\"summary\")\n",
    "ratings = ratings.drop(\"unixReviewTime\")\n",
    "ratings.columns"
   ]
  },
  {
   "cell_type": "code",
   "execution_count": 62,
   "metadata": {
    "collapsed": false
   },
   "outputs": [
    {
     "data": {
      "text/plain": [
       "DataFrame[asin: string, overall: double, reviewerID: string, reviewerName: string, summary: string]"
      ]
     },
     "execution_count": 62,
     "metadata": {},
     "output_type": "execute_result"
    }
   ],
   "source": [
    "ratings.persist()"
   ]
  },
  {
   "cell_type": "code",
   "execution_count": null,
   "metadata": {
    "collapsed": false
   },
   "outputs": [
    {
     "data": {
      "text/plain": [
       "4607088"
      ]
     },
     "execution_count": 63,
     "metadata": {},
     "output_type": "execute_result"
    }
   ],
   "source": [
    "numRatings = ratings.count()\n",
    "numRatings"
   ]
  },
  {
   "cell_type": "code",
   "execution_count": null,
   "metadata": {
    "collapsed": false
   },
   "outputs": [],
   "source": [
    "users = ratings.map(lambda r: r.reviewerID).distinct().zipWithIndex()\n",
    "users.take(5)"
   ]
  },
  {
   "cell_type": "code",
   "execution_count": null,
   "metadata": {
    "collapsed": false
   },
   "outputs": [],
   "source": [
    "numUsers = users.count()\n",
    "print numUsers"
   ]
  },
  {
   "cell_type": "code",
   "execution_count": null,
   "metadata": {
    "collapsed": false
   },
   "outputs": [],
   "source": [
    "users = ratings.map(lambda r: r.reviewerID).distinct().zipWithIndex()"
   ]
  },
  {
   "cell_type": "code",
   "execution_count": null,
   "metadata": {
    "collapsed": false
   },
   "outputs": [],
   "source": [
    "usersDf = sqlContext.createDataFrame(users, ['reviewerID', 'uid'])\n",
    "print usersDf.take(5)"
   ]
  },
  {
   "cell_type": "code",
   "execution_count": null,
   "metadata": {
    "collapsed": false
   },
   "outputs": [],
   "source": [
    "rawRatings1 = ratings.join(usersDf, ratings.reviewerID == usersDf.reviewerID)\n",
    "rawRatings1.printSchema()\n"
   ]
  },
  {
   "cell_type": "code",
   "execution_count": null,
   "metadata": {
    "collapsed": true
   },
   "outputs": [],
   "source": [
    "rawRatings1.persist()"
   ]
  },
  {
   "cell_type": "code",
   "execution_count": null,
   "metadata": {
    "collapsed": false
   },
   "outputs": [],
   "source": [
    "#print rawRatings1.take(1)[0].asin"
   ]
  },
  {
   "cell_type": "code",
   "execution_count": null,
   "metadata": {
    "collapsed": false
   },
   "outputs": [],
   "source": [
    "reviewerSummaryRDD1 = rawRatings1.map(lambda row: ((row.uid, row.reviewerID, row.reviewerName), {(row.asin, row.overall), }))\n",
    "reviewerSummaryRDD2 = reviewerSummaryRDD1.reduceByKey(lambda x, y: x | y)\n",
    "reviewerSummaryRDD2.take(5)\n"
   ]
  },
  {
   "cell_type": "code",
   "execution_count": null,
   "metadata": {
    "collapsed": false
   },
   "outputs": [],
   "source": [
    "reviewerSummaryRDD2.persist()"
   ]
  },
  {
   "cell_type": "code",
   "execution_count": null,
   "metadata": {
    "collapsed": true
   },
   "outputs": [],
   "source": []
  },
  {
   "cell_type": "code",
   "execution_count": null,
   "metadata": {
    "collapsed": true
   },
   "outputs": [],
   "source": [
    "reviewerSummaryRDD3 = reviewerSummaryRDD2.map(lambda x: {\"uid\":x[0][0], \"reviewerid\":x[0][1], \"reviewername\":x[0][2], \"numofreviews\":len(x[1]), \"ratings\":{item[0]:item[1] for item in x[1]}})"
   ]
  },
  {
   "cell_type": "code",
   "execution_count": null,
   "metadata": {
    "collapsed": false
   },
   "outputs": [],
   "source": [
    "def syncToCassandra(d_iter):\n",
    "        from cqlengine import columns\n",
    "        from cqlengine.models import Model\n",
    "        from cqlengine import connection\n",
    "        from cqlengine.management import sync_table\n",
    "        CASSANDRA_KEYSPACE = \"playground\"\n",
    "        class userprofile0(Model):\n",
    "                uid = columns.Integer(primary_key=True)\n",
    "                reviewerid = columns.Text()\n",
    "                reviewername = columns.Text()\n",
    "                numofreviews = columns.Float(primary_key=True, clustering_order=\"DESC\")\n",
    "                ratings = columns.Map(columns.Text, columns.Float)\n",
    "        connection.setup(['172.31.39.226'], CASSANDRA_KEYSPACE)\n",
    "        sync_table(userprofile0)\n",
    "        for d in d_iter:\n",
    "                userprofile0.create(**d)\n",
    "# Create table if it does not exist. Need to do this before submitting to Spark to avoid collisions\n",
    "syncToCassandra([])\n",
    "reviewerSummaryRDD3.foreachPartition(syncToCassandra)"
   ]
  },
  {
   "cell_type": "code",
   "execution_count": null,
   "metadata": {
    "collapsed": true
   },
   "outputs": [],
   "source": []
  }
 ],
 "metadata": {
  "kernelspec": {
   "display_name": "Python 2",
   "language": "python",
   "name": "python2"
  },
  "language_info": {
   "codemirror_mode": {
    "name": "ipython",
    "version": 2
   },
   "file_extension": ".py",
   "mimetype": "text/x-python",
   "name": "python",
   "nbconvert_exporter": "python",
   "pygments_lexer": "ipython2",
   "version": "2.7.6"
  }
 },
 "nbformat": 4,
 "nbformat_minor": 0
}
