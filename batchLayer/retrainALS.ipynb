{
 "cells": [
  {
   "cell_type": "code",
   "execution_count": 1,
   "metadata": {
    "collapsed": false
   },
   "outputs": [
    {
     "name": "stdout",
     "output_type": "stream",
     "text": [
      "root\n",
      " |-- asin: string (nullable = true)\n",
      " |-- helpful: array (nullable = true)\n",
      " |    |-- element: long (containsNull = true)\n",
      " |-- overall: double (nullable = true)\n",
      " |-- reviewText: string (nullable = true)\n",
      " |-- reviewTime: string (nullable = true)\n",
      " |-- reviewerID: string (nullable = true)\n",
      " |-- reviewerName: string (nullable = true)\n",
      " |-- summary: string (nullable = true)\n",
      " |-- unixReviewTime: long (nullable = true)\n",
      "\n"
     ]
    }
   ],
   "source": [
    "from pyspark.sql import SQLContext\n",
    "sqlContext = SQLContext(sc)\n",
    "#df = sqlContext.read.json(\"s3n://patricks3db/reviews_Movies_and_TV_small.json\")\n",
    "df = sqlContext.read.json(\"s3n://patricks3db/reviews_Movies_and_TV.json\")\n",
    "df.printSchema()"
   ]
  },
  {
   "cell_type": "code",
   "execution_count": 28,
   "metadata": {
    "collapsed": false
   },
   "outputs": [
    {
     "data": {
      "text/plain": [
       "[Row(asin=u'0790734680', helpful=[0, 0], overall=5.0, reviewText=u'Incredibly well done film. The dynamics that occur between Spacey and Cusak imbue the production with a feeling of reality and believability.  Scene selection and framing are excellent. Overall very entertaining.', reviewTime=u'07 3, 2014', reviewerID=u'A10VV7RHT2VVLO', reviewerName=u'George', summary=u'Well worth the time invested.', unixReviewTime=1404345600),\n",
       " Row(asin=u'0790734680', helpful=[0, 3], overall=5.0, reviewText=u\"The book is just as quirky as Savannah or is the Savannah as quirky as the book...an all time favorite that should be on every one's shelf...you never know when you might new it !!\", reviewTime=u'05 13, 2007', reviewerID=u'AI46WC46W4HSA', reviewerName=u'George L. Carter \"reader\"', summary=u'one of the best movies of all time', unixReviewTime=1179014400),\n",
       " Row(asin=u'0790734680', helpful=[0, 0], overall=4.0, reviewText=u'Kevin Spacey always gives a credible performance.  Curious to knowhow close story in book was followed.Overall I liked it.', reviewTime=u'06 28, 2014', reviewerID=u'A3MG14J7MXE9CC', reviewerName=u'George McGarrity', summary=u'Serious murder mixed with comedy', unixReviewTime=1403913600),\n",
       " Row(asin=u'0790734680', helpful=[1, 1], overall=4.0, reviewText=u'Bought the movie because we had read the book. It brough to life many of the characters and incidents written about and we would enjoy watching it again', reviewTime=u'11 23, 2012', reviewerID=u'A2JVENX0YYRLN2', reviewerName=u'George R. Knight', summary=u'FAIR REPRESENTATION OF BOOK', unixReviewTime=1353628800),\n",
       " Row(asin=u'0790734680', helpful=[1, 1], overall=4.0, reviewText=u\"I enjoyed this movie very much, so I decided to read the book.  The book is better, but then, aren't they always?\", reviewTime=u'09 3, 2013', reviewerID=u'A7XY1UBLWUFSF', reviewerName=u'George S. Robinson \"Shack\"', summary=u'Great movie - better book!', unixReviewTime=1378166400)]"
      ]
     },
     "execution_count": 28,
     "metadata": {},
     "output_type": "execute_result"
    }
   ],
   "source": [
    "#df.take(5)"
   ]
  },
  {
   "cell_type": "code",
   "execution_count": 2,
   "metadata": {
    "collapsed": false
   },
   "outputs": [
    {
     "data": {
      "text/plain": [
       "['asin', 'overall', 'reviewerID']"
      ]
     },
     "execution_count": 2,
     "metadata": {},
     "output_type": "execute_result"
    }
   ],
   "source": [
    "ratings = df\n",
    "ratings = ratings.drop(\"helpful\")\n",
    "ratings = ratings.drop(\"reviewText\")\n",
    "ratings = ratings.drop(\"reviewTime\")\n",
    "ratings = ratings.drop(\"reviewerName\")\n",
    "ratings = ratings.drop(\"summary\")\n",
    "ratings = ratings.drop(\"unixReviewTime\")\n",
    "ratings.columns"
   ]
  },
  {
   "cell_type": "code",
   "execution_count": 3,
   "metadata": {
    "collapsed": false
   },
   "outputs": [
    {
     "data": {
      "text/plain": [
       "DataFrame[asin: string, overall: double, reviewerID: string]"
      ]
     },
     "execution_count": 3,
     "metadata": {},
     "output_type": "execute_result"
    }
   ],
   "source": [
    "ratings.persist(StorageLevel.MEMORY_AND_DISK_SER)"
   ]
  },
  {
   "cell_type": "code",
   "execution_count": 4,
   "metadata": {
    "collapsed": true
   },
   "outputs": [],
   "source": [
    "newUserDf = sqlContext.read.json(\"s3n://patricks3db/mapuidreviewerid/uidreviwerid.json\")"
   ]
  },
  {
   "cell_type": "code",
   "execution_count": 5,
   "metadata": {
    "collapsed": false
   },
   "outputs": [
    {
     "data": {
      "text/plain": [
       "[Row(reviewerid=u'A1CULZCDCJJGYC', uid=70850)]"
      ]
     },
     "execution_count": 5,
     "metadata": {},
     "output_type": "execute_result"
    }
   ],
   "source": [
    "newUserDf.take(1)"
   ]
  },
  {
   "cell_type": "code",
   "execution_count": 6,
   "metadata": {
    "collapsed": false
   },
   "outputs": [],
   "source": [
    "newMovieDf = sqlContext.read.json(\"s3n://patricks3db/mapmidasin/midasin.json\")"
   ]
  },
  {
   "cell_type": "code",
   "execution_count": 7,
   "metadata": {
    "collapsed": false
   },
   "outputs": [
    {
     "data": {
      "text/plain": [
       "[Row(asin=u'B000IU36LM', mid=6824)]"
      ]
     },
     "execution_count": 7,
     "metadata": {},
     "output_type": "execute_result"
    }
   ],
   "source": [
    "newMovieDf.take(1)"
   ]
  },
  {
   "cell_type": "code",
   "execution_count": 8,
   "metadata": {
    "collapsed": false
   },
   "outputs": [
    {
     "data": {
      "text/plain": [
       "DataFrame[reviewerid: string, uid: bigint]"
      ]
     },
     "execution_count": 8,
     "metadata": {},
     "output_type": "execute_result"
    }
   ],
   "source": [
    "newMovieDf.persist(StorageLevel.MEMORY_AND_DISK_SER)\n",
    "newUserDf.persist(StorageLevel.MEMORY_AND_DISK_SER)"
   ]
  },
  {
   "cell_type": "code",
   "execution_count": 9,
   "metadata": {
    "collapsed": false
   },
   "outputs": [
    {
     "name": "stdout",
     "output_type": "stream",
     "text": [
      "root\n",
      " |-- asin: string (nullable = true)\n",
      " |-- overall: double (nullable = true)\n",
      " |-- reviewerID: string (nullable = true)\n",
      " |-- reviewerid: string (nullable = true)\n",
      " |-- uid: long (nullable = true)\n",
      "\n"
     ]
    }
   ],
   "source": [
    "rawRatings1 = ratings.join(newUserDf, ratings.reviewerID == newUserDf.reviewerid)\n",
    "rawRatings1.printSchema()\n"
   ]
  },
  {
   "cell_type": "code",
   "execution_count": 10,
   "metadata": {
    "collapsed": false
   },
   "outputs": [
    {
     "name": "stdout",
     "output_type": "stream",
     "text": [
      "root\n",
      " |-- asin: string (nullable = true)\n",
      " |-- overall: double (nullable = true)\n",
      " |-- reviewerID: string (nullable = true)\n",
      " |-- reviewerid: string (nullable = true)\n",
      " |-- uid: long (nullable = true)\n",
      " |-- asin: string (nullable = true)\n",
      " |-- mid: long (nullable = true)\n",
      "\n"
     ]
    }
   ],
   "source": [
    "rawRatings2 = rawRatings1.join(newMovieDf, ratings.asin == newMovieDf.asin)\n",
    "rawRatings2.printSchema()"
   ]
  },
  {
   "cell_type": "code",
   "execution_count": 11,
   "metadata": {
    "collapsed": false
   },
   "outputs": [],
   "source": [
    "#print rawRatings2.take(1)[0].asin"
   ]
  },
  {
   "cell_type": "code",
   "execution_count": 12,
   "metadata": {
    "collapsed": false
   },
   "outputs": [],
   "source": [
    "rawRatings3 = rawRatings2.map(lambda row: (row.uid, row.mid, row.overall)).persist(StorageLevel.MEMORY_AND_DISK_SER)"
   ]
  },
  {
   "cell_type": "code",
   "execution_count": 13,
   "metadata": {
    "collapsed": false
   },
   "outputs": [],
   "source": [
    "#rawRatings3.take(10)"
   ]
  },
  {
   "cell_type": "code",
   "execution_count": 29,
   "metadata": {
    "collapsed": false
   },
   "outputs": [],
   "source": [
    "from pyspark.mllib.recommendation import ALS, MatrixFactorizationModel, Rating\n",
    "rank = 100\n",
    "numIterations = 20\n",
    "model = ALS.train(rawRatings3, rank, numIterations)"
   ]
  },
  {
   "cell_type": "code",
   "execution_count": 30,
   "metadata": {
    "collapsed": false
   },
   "outputs": [
    {
     "data": {
      "text/plain": [
       "[Rating(user=100000, product=145872, rating=4.997731281397979),\n",
       " Rating(user=100000, product=116359, rating=4.475223349854297),\n",
       " Rating(user=100000, product=699, rating=4.12722687703221),\n",
       " Rating(user=100000, product=152452, rating=3.9732349022988265),\n",
       " Rating(user=100000, product=14366, rating=3.893993585838197)]"
      ]
     },
     "execution_count": 30,
     "metadata": {},
     "output_type": "execute_result"
    }
   ],
   "source": [
    "model.recommendProducts(100000,5)"
   ]
  },
  {
   "cell_type": "code",
   "execution_count": 31,
   "metadata": {
    "collapsed": false
   },
   "outputs": [],
   "source": [
    "#type(model)"
   ]
  },
  {
   "cell_type": "code",
   "execution_count": 32,
   "metadata": {
    "collapsed": false
   },
   "outputs": [],
   "source": [
    "#type(ALS)"
   ]
  },
  {
   "cell_type": "code",
   "execution_count": 33,
   "metadata": {
    "collapsed": false
   },
   "outputs": [],
   "source": [
    "#userMoviePair = usersDf.join(moviesDf).drop('reviewerID').drop('asin').map(lambda row: (row.userID, row.movieID))"
   ]
  },
  {
   "cell_type": "code",
   "execution_count": 34,
   "metadata": {
    "collapsed": false
   },
   "outputs": [],
   "source": [
    "#userMoviePair.take(5)\n",
    "#type(userMoviePair)"
   ]
  },
  {
   "cell_type": "code",
   "execution_count": 35,
   "metadata": {
    "collapsed": false
   },
   "outputs": [],
   "source": [
    "#recommendations = model.predictAll(userMoviePair)"
   ]
  },
  {
   "cell_type": "code",
   "execution_count": 36,
   "metadata": {
    "collapsed": false
   },
   "outputs": [],
   "source": [
    "#type(recommendations)"
   ]
  },
  {
   "cell_type": "code",
   "execution_count": 37,
   "metadata": {
    "collapsed": false
   },
   "outputs": [],
   "source": [
    "#recommendations.take(5)"
   ]
  },
  {
   "cell_type": "code",
   "execution_count": 39,
   "metadata": {
    "collapsed": false
   },
   "outputs": [],
   "source": [
    "path = \"s3n://patricks3db/modelsComplete100r20i\"\n",
    "model.save(sc, path)"
   ]
  },
  {
   "cell_type": "code",
   "execution_count": 40,
   "metadata": {
    "collapsed": true
   },
   "outputs": [],
   "source": [
    "sameModel = MatrixFactorizationModel.load(sc, path)"
   ]
  },
  {
   "cell_type": "code",
   "execution_count": 41,
   "metadata": {
    "collapsed": false
   },
   "outputs": [
    {
     "data": {
      "text/plain": [
       "[Rating(user=1, product=163372, rating=2.4197634397691887),\n",
       " Rating(user=1, product=11214, rating=2.4013448228019882),\n",
       " Rating(user=1, product=21794, rating=2.3634405064156776),\n",
       " Rating(user=1, product=162648, rating=2.3352358957272),\n",
       " Rating(user=1, product=171413, rating=2.3346140399527098)]"
      ]
     },
     "execution_count": 41,
     "metadata": {},
     "output_type": "execute_result"
    }
   ],
   "source": [
    "sameModel.recommendProducts(1,5)"
   ]
  },
  {
   "cell_type": "code",
   "execution_count": 42,
   "metadata": {
    "collapsed": false
   },
   "outputs": [
    {
     "data": {
      "text/plain": [
       "PythonRDD[1093] at RDD at PythonRDD.scala:43"
      ]
     },
     "execution_count": 42,
     "metadata": {},
     "output_type": "execute_result"
    }
   ],
   "source": [
    "sameModel.userFeatures().persist(StorageLevel.MEMORY_AND_DISK_SER)"
   ]
  },
  {
   "cell_type": "code",
   "execution_count": 43,
   "metadata": {
    "collapsed": false
   },
   "outputs": [
    {
     "data": {
      "text/plain": [
       "[Rating(user=100000, product=145872, rating=4.997731281397979),\n",
       " Rating(user=100000, product=116359, rating=4.475223349854297),\n",
       " Rating(user=100000, product=699, rating=4.12722687703221),\n",
       " Rating(user=100000, product=152452, rating=3.9732349022988265),\n",
       " Rating(user=100000, product=14366, rating=3.893993585838197)]"
      ]
     },
     "execution_count": 43,
     "metadata": {},
     "output_type": "execute_result"
    }
   ],
   "source": [
    "sameModel.recommendProducts(100000,5)"
   ]
  },
  {
   "cell_type": "code",
   "execution_count": 44,
   "metadata": {
    "collapsed": false
   },
   "outputs": [
    {
     "data": {
      "text/plain": [
       "[Rating(user=500000, product=39645, rating=5.756030825014899),\n",
       " Rating(user=500000, product=75124, rating=5.7084549182320785),\n",
       " Rating(user=500000, product=116060, rating=5.7060261714005005),\n",
       " Rating(user=500000, product=40802, rating=5.670629651357171),\n",
       " Rating(user=500000, product=163372, rating=5.662105119226227)]"
      ]
     },
     "execution_count": 44,
     "metadata": {},
     "output_type": "execute_result"
    }
   ],
   "source": [
    "sameModel.recommendProducts(500000,5)"
   ]
  },
  {
   "cell_type": "code",
   "execution_count": 45,
   "metadata": {
    "collapsed": false
   },
   "outputs": [
    {
     "data": {
      "text/plain": [
       "[Rating(user=1000000, product=41512, rating=4.997829492205691),\n",
       " Rating(user=1000000, product=181607, rating=4.856613262382808),\n",
       " Rating(user=1000000, product=21794, rating=4.694383995680129),\n",
       " Rating(user=1000000, product=171413, rating=4.6922936306380425),\n",
       " Rating(user=1000000, product=174313, rating=4.664253250713721)]"
      ]
     },
     "execution_count": 45,
     "metadata": {},
     "output_type": "execute_result"
    }
   ],
   "source": [
    "sameModel.recommendProducts(1000000,5)"
   ]
  },
  {
   "cell_type": "code",
   "execution_count": null,
   "metadata": {
    "collapsed": true
   },
   "outputs": [],
   "source": []
  }
 ],
 "metadata": {
  "kernelspec": {
   "display_name": "Python 2",
   "language": "python",
   "name": "python2"
  },
  "language_info": {
   "codemirror_mode": {
    "name": "ipython",
    "version": 2
   },
   "file_extension": ".py",
   "mimetype": "text/x-python",
   "name": "python",
   "nbconvert_exporter": "python",
   "pygments_lexer": "ipython2",
   "version": "2.7.6"
  }
 },
 "nbformat": 4,
 "nbformat_minor": 0
}
