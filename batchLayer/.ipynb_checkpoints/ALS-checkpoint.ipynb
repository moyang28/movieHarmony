{
 "cells": [
  {
   "cell_type": "code",
   "execution_count": 1,
   "metadata": {
    "collapsed": true
   },
   "outputs": [],
   "source": [
    "from cqlengine import columns\n",
    "from cqlengine.models import Model\n",
    "from cqlengine import connection\n",
    "from cqlengine.management import sync_table\n",
    "CASSANDRA_KEYSPACE = \"playground\"\n",
    "connection.setup(['172.31.39.226'], CASSANDRA_KEYSPACE)\n",
    "import json"
   ]
  },
  {
   "cell_type": "code",
   "execution_count": 2,
   "metadata": {
    "collapsed": false
   },
   "outputs": [
    {
     "name": "stdout",
     "output_type": "stream",
     "text": [
      "root\n",
      " |-- asin: string (nullable = true)\n",
      " |-- helpful: array (nullable = true)\n",
      " |    |-- element: long (containsNull = true)\n",
      " |-- overall: double (nullable = true)\n",
      " |-- reviewText: string (nullable = true)\n",
      " |-- reviewTime: string (nullable = true)\n",
      " |-- reviewerID: string (nullable = true)\n",
      " |-- reviewerName: string (nullable = true)\n",
      " |-- summary: string (nullable = true)\n",
      " |-- unixReviewTime: long (nullable = true)\n",
      "\n"
     ]
    }
   ],
   "source": [
    "from pyspark.sql import SQLContext\n",
    "sqlContext = SQLContext(sc)\n",
    "#df = sqlContext.read.json(\"s3n://patricks3db/reviews_Movies_and_TV_small.json\")\n",
    "df = sqlContext.read.json(\"s3n://patricks3db/reviews_Movies_and_TV.json\")\n",
    "df.printSchema()"
   ]
  },
  {
   "cell_type": "code",
   "execution_count": 3,
   "metadata": {
    "collapsed": false
   },
   "outputs": [
    {
     "data": {
      "text/plain": [
       "['asin', 'overall', 'reviewerID']"
      ]
     },
     "execution_count": 3,
     "metadata": {},
     "output_type": "execute_result"
    }
   ],
   "source": [
    "ratings = df\n",
    "ratings = ratings.drop(\"helpful\")\n",
    "ratings = ratings.drop(\"reviewText\")\n",
    "ratings = ratings.drop(\"reviewTime\")\n",
    "ratings = ratings.drop(\"reviewerName\")\n",
    "ratings = ratings.drop(\"summary\")\n",
    "ratings = ratings.drop(\"unixReviewTime\")\n",
    "ratings.columns"
   ]
  },
  {
   "cell_type": "code",
   "execution_count": 4,
   "metadata": {
    "collapsed": false
   },
   "outputs": [],
   "source": [
    "#users = ratings.map(lambda r: r.reviewerID).distinct().zipWithIndex()\n",
    "#users.take(5)\n",
    "#users.count()"
   ]
  },
  {
   "cell_type": "code",
   "execution_count": 5,
   "metadata": {
    "collapsed": false
   },
   "outputs": [],
   "source": [
    "#movies = ratings.map(lambda r: r.asin).distinct().zipWithIndex()\n",
    "#movies.take(5)\n",
    "#movies.count()"
   ]
  },
  {
   "cell_type": "code",
   "execution_count": 6,
   "metadata": {
    "collapsed": false
   },
   "outputs": [],
   "source": [
    "#moviesDf = sqlContext.createDataFrame(movies, ['asin', 'movieID'])\n",
    "#moviesDf.take(5)\n",
    "#usersDf = sqlContext.createDataFrame(users, ['reviewerID', 'userID'])\n",
    "#usersDf.take(5)"
   ]
  },
  {
   "cell_type": "code",
   "execution_count": 7,
   "metadata": {
    "collapsed": true
   },
   "outputs": [],
   "source": [
    "#rawRatings1 = ratings.join(usersDf, ratings.reviewerID == usersDf.reviewerID).drop(\"reviewerID\")"
   ]
  },
  {
   "cell_type": "code",
   "execution_count": 8,
   "metadata": {
    "collapsed": true
   },
   "outputs": [],
   "source": [
    "#rawRatings2 = rawRatings1.join(moviesDf, ratings.asin == moviesDf.asin).drop(\"asin\")"
   ]
  },
  {
   "cell_type": "code",
   "execution_count": 9,
   "metadata": {
    "collapsed": true
   },
   "outputs": [],
   "source": [
    "#rawRatings3 = rawRatings2.map(lambda row: (row.userID, row.movieID, row.overall)).cache()"
   ]
  },
  {
   "cell_type": "code",
   "execution_count": 10,
   "metadata": {
    "collapsed": false
   },
   "outputs": [],
   "source": [
    "intmax = 2 ** 31 - 1\n",
    "rawRatings3 = ratings.map(lambda row: (abs(hash(row.reviewerID))%intmax, abs(hash(row.asin))%intmax, row.overall)).cache()"
   ]
  },
  {
   "cell_type": "code",
   "execution_count": 11,
   "metadata": {
    "collapsed": true
   },
   "outputs": [],
   "source": [
    "from pyspark.mllib.recommendation import ALS, MatrixFactorizationModel, Rating"
   ]
  },
  {
   "cell_type": "code",
   "execution_count": 12,
   "metadata": {
    "collapsed": true
   },
   "outputs": [],
   "source": [
    "rank = 10\n",
    "numIterations = 10\n",
    "model = ALS.train(rawRatings3, rank, numIterations)"
   ]
  },
  {
   "cell_type": "code",
   "execution_count": 13,
   "metadata": {
    "collapsed": false
   },
   "outputs": [],
   "source": [
    "#model.recommendProducts(8751,5)"
   ]
  },
  {
   "cell_type": "code",
   "execution_count": 14,
   "metadata": {
    "collapsed": false
   },
   "outputs": [],
   "source": [
    "#model.userFeatures().take(5)"
   ]
  },
  {
   "cell_type": "code",
   "execution_count": 15,
   "metadata": {
    "collapsed": false
   },
   "outputs": [],
   "source": [
    "#userMoviePair = usersDf.join(moviesDf).drop('reviewerID').drop('asin')\n",
    "#userMoviePair.printSchema()\n",
    "#userMoviePair = userMoviePair.filter(userMoviePair.userID < 1000)\n",
    "#userMoviePair = userMoviePair.map(lambda row: (row.userID, row.movieID)).cache()"
   ]
  },
  {
   "cell_type": "code",
   "execution_count": null,
   "metadata": {
    "collapsed": true
   },
   "outputs": [],
   "source": []
  },
  {
   "cell_type": "code",
   "execution_count": 16,
   "metadata": {
    "collapsed": false
   },
   "outputs": [
    {
     "name": "stdout",
     "output_type": "stream",
     "text": [
      "208321\n",
      "197474\n"
     ]
    },
    {
     "data": {
      "text/plain": [
       "Row(pid=485290944, asin=u'0000589012', brand=None, imUrl=u'http://ecx.images-amazon.com/images/I/519%2B1kseM3L._SY300_.jpg', price=15.95, title=u\"Why Don't They Just Quit? DVD Roundtable Discussion: What Families and Friends need to Know About Addiction and Recovery\")"
      ]
     },
     "execution_count": 16,
     "metadata": {},
     "output_type": "execute_result"
    }
   ],
   "source": [
    "moviePool = sqlContext.read.json(\"s3n://patricks3db/meta_Movies_and_TV.json\")\n",
    "#moviePool.printSchema()\n",
    "print moviePool.count()\n",
    "moviePool = moviePool.filter(moviePool.imUrl.endswith('jpg') | moviePool.imUrl.endswith('jpeg'))\n",
    "print moviePool.count()\n",
    "intmax = 2 ** 31 - 1\n",
    "from pyspark.sql.functions import udf\n",
    "from pyspark.sql.types import IntegerType\n",
    "createIntegerId = udf(lambda text: abs(hash(text))%intmax, IntegerType())\n",
    "moviePool = moviePool.withColumn('pid', createIntegerId(moviePool.asin))\n",
    "#moviePool.printSchema()\n",
    "moviePool = moviePool.select('pid', 'asin', 'brand', 'imUrl', 'price', 'title')\n",
    "moviePool.first()"
   ]
  },
  {
   "cell_type": "code",
   "execution_count": null,
   "metadata": {
    "collapsed": true
   },
   "outputs": [],
   "source": []
  },
  {
   "cell_type": "code",
   "execution_count": 17,
   "metadata": {
    "collapsed": true
   },
   "outputs": [],
   "source": [
    "def AddToCassandra_allcountsbatch_bypartition(d_iter):\n",
    "        class movieCatalog2(Model):\n",
    "                from cqlengine import columns\n",
    "                from cqlengine.models import Model\n",
    "                from cqlengine import connection\n",
    "                from cqlengine.management import sync_table\n",
    "                CASSANDRA_KEYSPACE = \"playground\"\n",
    "                pid = columns.Integer(primary_key=True)\n",
    "                asin = columns.Text(primary_key=True)\n",
    "                brand = columns.Text()\n",
    "                imUrl = columns.Text()\n",
    "                price = columns.Float()\n",
    "                title = columns.Text()\n",
    "        connection.setup(['172.31.39.226'], CASSANDRA_KEYSPACE)\n",
    "        sync_table(movieCatalog2)\n",
    "        for d in d_iter:\n",
    "                movieCatalog2.create(**d)\n",
    "# Create table if it does not exist. Need to do this before submitting to Spark to avoid collisions\n",
    "AddToCassandra_allcountsbatch_bypartition([])"
   ]
  },
  {
   "cell_type": "code",
   "execution_count": 18,
   "metadata": {
    "collapsed": false
   },
   "outputs": [],
   "source": [
    "moviePool.toJSON(use_unicode=False).map(lambda row: json.loads(row)).foreachPartition(AddToCassandra_allcountsbatch_bypartition)"
   ]
  },
  {
   "cell_type": "code",
   "execution_count": 19,
   "metadata": {
    "collapsed": false
   },
   "outputs": [
    {
     "name": "stdout",
     "output_type": "stream",
     "text": [
      "root\n",
      " |-- reviewerID: string (nullable = true)\n",
      " |-- reviewerName: string (nullable = true)\n",
      " |-- uid: integer (nullable = true)\n",
      "\n"
     ]
    }
   ],
   "source": [
    "userPool = df.select('reviewerID', 'reviewerName').distinct()\n",
    "intmax = 2 ** 31 - 1\n",
    "from pyspark.sql.functions import udf\n",
    "from pyspark.sql.types import IntegerType\n",
    "createIntegerId = udf(lambda text: abs(hash(text))%intmax, IntegerType())\n",
    "userPool = userPool.withColumn('uid', createIntegerId(userPool.reviewerID))\n",
    "userPool.printSchema()"
   ]
  },
  {
   "cell_type": "code",
   "execution_count": 20,
   "metadata": {
    "collapsed": false
   },
   "outputs": [],
   "source": [
    "def AddToCassandra_allcountsbatch_bypartition(d_iter):\n",
    "        class userbase2(Model):\n",
    "                from cqlengine import columns\n",
    "                from cqlengine.models import Model\n",
    "                from cqlengine import connection\n",
    "                from cqlengine.management import sync_table\n",
    "                CASSANDRA_KEYSPACE = \"playground\"\n",
    "                uid = columns.Integer(primary_key=True)\n",
    "                reviewerID = columns.Text(primary_key=True)\n",
    "                reviewerName = columns.Text()\n",
    "        connection.setup(['172.31.39.226'], CASSANDRA_KEYSPACE)\n",
    "        sync_table(userbase2)\n",
    "        for d in d_iter:\n",
    "                userbase2.create(**d)\n",
    "# Create table if it does not exist. Need to do this before submitting to Spark to avoid collisions\n",
    "AddToCassandra_allcountsbatch_bypartition([])"
   ]
  },
  {
   "cell_type": "code",
   "execution_count": 21,
   "metadata": {
    "collapsed": false
   },
   "outputs": [],
   "source": [
    "userPool.toJSON(use_unicode=False).map(lambda row: json.loads(row)).foreachPartition(AddToCassandra_allcountsbatch_bypartition)"
   ]
  },
  {
   "cell_type": "code",
   "execution_count": 22,
   "metadata": {
    "collapsed": false
   },
   "outputs": [
    {
     "data": {
      "text/plain": [
       "2098332"
      ]
     },
     "execution_count": 22,
     "metadata": {},
     "output_type": "execute_result"
    }
   ],
   "source": [
    "userPool.count()"
   ]
  },
  {
   "cell_type": "code",
   "execution_count": null,
   "metadata": {
    "collapsed": false
   },
   "outputs": [
    {
     "name": "stdout",
     "output_type": "stream",
     "text": [
      "root\n",
      " |-- uid: integer (nullable = true)\n",
      " |-- pid: integer (nullable = true)\n",
      "\n"
     ]
    },
    {
     "data": {
      "text/plain": [
       "600"
      ]
     },
     "execution_count": 23,
     "metadata": {},
     "output_type": "execute_result"
    }
   ],
   "source": [
    "userMoviePair = userPool.select('uid').join(moviePool.select('pid')).cache()\n",
    "userMoviePair.printSchema()\n",
    "userMoviePair.rdd.getNumPartitions()"
   ]
  },
  {
   "cell_type": "code",
   "execution_count": null,
   "metadata": {
    "collapsed": true
   },
   "outputs": [],
   "source": [
    "recommendations = model.predictAll(userMoviePair.rdd.cache())\n",
    "recommendationsToC = recommendations.map(lambda x: {\"user\":x[0], \"product\":x[1], \"rating\":x[2]}).cache()\n"
   ]
  },
  {
   "cell_type": "code",
   "execution_count": null,
   "metadata": {
    "collapsed": false
   },
   "outputs": [],
   "source": [
    "def AddToCassandra_allcountsbatch_bypartition(d_iter):\n",
    "        from cqlengine import columns\n",
    "        from cqlengine.models import Model\n",
    "        from cqlengine import connection\n",
    "        from cqlengine.management import sync_table\n",
    "        CASSANDRA_KEYSPACE = \"playground\"\n",
    "        class predictions3(Model):\n",
    "                user = columns.Integer(primary_key=True)\n",
    "                product = columns.Integer()\n",
    "                rating = columns.Float(primary_key=True, clustering_order=\"DESC\")\n",
    "        connection.setup(['172.31.39.226'], CASSANDRA_KEYSPACE)\n",
    "        sync_table(predictions3)\n",
    "        for d in d_iter:\n",
    "                predictions3.create(**d)\n",
    "\n",
    "# Create table if it does not exist. Need to do this before submitting to Spark to avoid collisions\n",
    "AddToCassandra_allcountsbatch_bypartition([])\n",
    "recommendationsToC.foreachPartition(AddToCassandra_allcountsbatch_bypartition)\n"
   ]
  },
  {
   "cell_type": "code",
   "execution_count": null,
   "metadata": {
    "collapsed": false
   },
   "outputs": [],
   "source": [
    "\"\"\"\n",
    "#compute recommmendation and save to cassandra\n",
    "def createRecommendationsForAll(testuid):\n",
    "    from pyspark.sql.functions import udf\n",
    "    from pyspark.sql.types import IntegerType\n",
    "    addUid = udf(lambda inputUid: testuid, IntegerType())\n",
    "    userMoviePair = moviePool.select('pid')\n",
    "    #print userMoviePair.printSchema()\n",
    "    #print type(userMoviePair)\n",
    "    userMoviePair2 = userMoviePair.withColumn('uid', addUid(userMoviePair.pid)).select('uid','pid')\n",
    "    #print userMoviePair2.printSchema()\n",
    "    #print userMoviePair2.take(5)\n",
    "    recommendations = model.predictAll(userMoviePair2.rdd.cache())\n",
    "    recommendationsToC = recommendations.map(lambda x: {\"user\":x[0], \"product\":x[1], \"rating\":x[2]}).cache()\n",
    "\"\"\""
   ]
  },
  {
   "cell_type": "code",
   "execution_count": null,
   "metadata": {
    "collapsed": false
   },
   "outputs": [],
   "source": [
    "\"\"\"\n",
    "userPool.printSchema()\n",
    "#userList = userPool.map(lambda row: row.uid).take(50)\n",
    "userList = userPool.map(lambda row: row.uid).collect()\n",
    "#print userList\n",
    "\"\"\""
   ]
  },
  {
   "cell_type": "code",
   "execution_count": null,
   "metadata": {
    "collapsed": false
   },
   "outputs": [],
   "source": [
    "#for uid in userList: createRecommendationsForAll(uid)"
   ]
  },
  {
   "cell_type": "code",
   "execution_count": null,
   "metadata": {
    "collapsed": false
   },
   "outputs": [],
   "source": [
    "\"\"\"\n",
    "testuid = 1981581556\n",
    "from pyspark.sql.functions import udf\n",
    "from pyspark.sql.types import IntegerType\n",
    "addUid = udf(lambda inputUid: testuid, IntegerType())\n",
    "userMoviePair = moviePool.select('pid')\n",
    "#print userMoviePair.printSchema()\n",
    "#print type(userMoviePair)\n",
    "userMoviePair2 = userMoviePair.withColumn('uid', addUid(userMoviePair.pid)).select('uid','pid')\n",
    "#print userMoviePair2.printSchema()\n",
    "#print userMoviePair2.take(5)\n",
    "recommendations = model.predictAll(userMoviePair2.rdd.cache())\n",
    "print recommendations.take(5)\n",
    "recommendationsToC = recommendations.map(lambda x: {\"user\":x[0], \"product\":x[1], \"rating\":x[2]}).cache()\n",
    "print recommendationsToC.take(5)\n",
    "recommendationsToC.foreachPartition(AddToCassandra_allcountsbatch_bypartition)\n",
    "\"\"\""
   ]
  },
  {
   "cell_type": "code",
   "execution_count": null,
   "metadata": {
    "collapsed": true
   },
   "outputs": [],
   "source": []
  },
  {
   "cell_type": "code",
   "execution_count": null,
   "metadata": {
    "collapsed": true
   },
   "outputs": [],
   "source": []
  }
 ],
 "metadata": {
  "kernelspec": {
   "display_name": "Python 2",
   "language": "python",
   "name": "python2"
  },
  "language_info": {
   "codemirror_mode": {
    "name": "ipython",
    "version": 2
   },
   "file_extension": ".py",
   "mimetype": "text/x-python",
   "name": "python",
   "nbconvert_exporter": "python",
   "pygments_lexer": "ipython2",
   "version": "2.7.6"
  }
 },
 "nbformat": 4,
 "nbformat_minor": 0
}
