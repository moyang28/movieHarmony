{
 "cells": [
  {
   "cell_type": "code",
   "execution_count": 1,
   "metadata": {
    "collapsed": true
   },
   "outputs": [],
   "source": [
    "from cqlengine import columns\n",
    "from cqlengine.models import Model\n",
    "from cqlengine import connection\n",
    "from cqlengine.management import sync_table\n",
    "CASSANDRA_KEYSPACE = \"playground\"\n",
    "connection.setup(['172.31.39.226'], CASSANDRA_KEYSPACE)\n",
    "import json"
   ]
  },
  {
   "cell_type": "code",
   "execution_count": 2,
   "metadata": {
    "collapsed": false
   },
   "outputs": [
    {
     "name": "stdout",
     "output_type": "stream",
     "text": [
      "root\n",
      " |-- asin: string (nullable = true)\n",
      " |-- helpful: array (nullable = true)\n",
      " |    |-- element: long (containsNull = true)\n",
      " |-- overall: double (nullable = true)\n",
      " |-- reviewText: string (nullable = true)\n",
      " |-- reviewTime: string (nullable = true)\n",
      " |-- reviewerID: string (nullable = true)\n",
      " |-- reviewerName: string (nullable = true)\n",
      " |-- summary: string (nullable = true)\n",
      " |-- unixReviewTime: long (nullable = true)\n",
      "\n"
     ]
    }
   ],
   "source": [
    "from pyspark.sql import SQLContext\n",
    "sqlContext = SQLContext(sc)\n",
    "#df = sqlContext.read.json(\"s3n://patricks3db/reviews_Movies_and_TV_small.json\")\n",
    "df = sqlContext.read.json(\"s3n://patricks3db/reviews_Movies_and_TV.json\")\n",
    "df.printSchema()"
   ]
  },
  {
   "cell_type": "code",
   "execution_count": 3,
   "metadata": {
    "collapsed": false
   },
   "outputs": [
    {
     "data": {
      "text/plain": [
       "['asin', 'overall', 'reviewerID']"
      ]
     },
     "execution_count": 3,
     "metadata": {},
     "output_type": "execute_result"
    }
   ],
   "source": [
    "ratings = df\n",
    "ratings = ratings.drop(\"helpful\")\n",
    "ratings = ratings.drop(\"reviewText\")\n",
    "ratings = ratings.drop(\"reviewTime\")\n",
    "ratings = ratings.drop(\"reviewerName\")\n",
    "ratings = ratings.drop(\"summary\")\n",
    "ratings = ratings.drop(\"unixReviewTime\")\n",
    "ratings.columns"
   ]
  },
  {
   "cell_type": "code",
   "execution_count": 4,
   "metadata": {
    "collapsed": false
   },
   "outputs": [],
   "source": [
    "#users = ratings.map(lambda r: r.reviewerID).distinct().zipWithIndex()\n",
    "#users.take(5)\n",
    "#users.count()"
   ]
  },
  {
   "cell_type": "code",
   "execution_count": 5,
   "metadata": {
    "collapsed": false
   },
   "outputs": [],
   "source": [
    "#movies = ratings.map(lambda r: r.asin).distinct().zipWithIndex()\n",
    "#movies.take(5)\n",
    "#movies.count()"
   ]
  },
  {
   "cell_type": "code",
   "execution_count": 6,
   "metadata": {
    "collapsed": false
   },
   "outputs": [],
   "source": [
    "#moviesDf = sqlContext.createDataFrame(movies, ['asin', 'movieID'])\n",
    "#moviesDf.take(5)\n",
    "#usersDf = sqlContext.createDataFrame(users, ['reviewerID', 'userID'])\n",
    "#usersDf.take(5)"
   ]
  },
  {
   "cell_type": "code",
   "execution_count": 7,
   "metadata": {
    "collapsed": true
   },
   "outputs": [],
   "source": [
    "#rawRatings1 = ratings.join(usersDf, ratings.reviewerID == usersDf.reviewerID).drop(\"reviewerID\")"
   ]
  },
  {
   "cell_type": "code",
   "execution_count": 8,
   "metadata": {
    "collapsed": true
   },
   "outputs": [],
   "source": [
    "#rawRatings2 = rawRatings1.join(moviesDf, ratings.asin == moviesDf.asin).drop(\"asin\")"
   ]
  },
  {
   "cell_type": "code",
   "execution_count": 9,
   "metadata": {
    "collapsed": true
   },
   "outputs": [],
   "source": [
    "#rawRatings3 = rawRatings2.map(lambda row: (row.userID, row.movieID, row.overall)).cache()"
   ]
  },
  {
   "cell_type": "code",
   "execution_count": 10,
   "metadata": {
    "collapsed": false
   },
   "outputs": [],
   "source": [
    "intmax = 2 ** 31 - 1\n",
    "rawRatings3 = ratings.map(lambda row: (abs(hash(row.reviewerID))%intmax, abs(hash(row.asin))%intmax, row.overall)).cache()"
   ]
  },
  {
   "cell_type": "code",
   "execution_count": 11,
   "metadata": {
    "collapsed": true
   },
   "outputs": [],
   "source": [
    "from pyspark.mllib.recommendation import ALS, MatrixFactorizationModel, Rating"
   ]
  },
  {
   "cell_type": "code",
   "execution_count": 12,
   "metadata": {
    "collapsed": true
   },
   "outputs": [],
   "source": [
    "rank = 10\n",
    "numIterations = 10\n",
    "model = ALS.train(rawRatings3, rank, numIterations)"
   ]
  },
  {
   "cell_type": "code",
   "execution_count": 13,
   "metadata": {
    "collapsed": false
   },
   "outputs": [],
   "source": [
    "#model.recommendProducts(8751,5)"
   ]
  },
  {
   "cell_type": "code",
   "execution_count": 14,
   "metadata": {
    "collapsed": false
   },
   "outputs": [],
   "source": [
    "#model.userFeatures().take(5)"
   ]
  },
  {
   "cell_type": "code",
   "execution_count": 15,
   "metadata": {
    "collapsed": false
   },
   "outputs": [],
   "source": [
    "#userMoviePair = usersDf.join(moviesDf).drop('reviewerID').drop('asin')\n",
    "#userMoviePair.printSchema()\n",
    "#userMoviePair = userMoviePair.filter(userMoviePair.userID < 1000)\n",
    "#userMoviePair = userMoviePair.map(lambda row: (row.userID, row.movieID)).cache()"
   ]
  },
  {
   "cell_type": "code",
   "execution_count": null,
   "metadata": {
    "collapsed": true
   },
   "outputs": [],
   "source": []
  },
  {
   "cell_type": "code",
   "execution_count": 16,
   "metadata": {
    "collapsed": false
   },
   "outputs": [
    {
     "name": "stdout",
     "output_type": "stream",
     "text": [
      "208321\n",
      "197474\n"
     ]
    },
    {
     "data": {
      "text/plain": [
       "Row(pid=485290944, asin=u'0000589012', brand=None, imUrl=u'http://ecx.images-amazon.com/images/I/519%2B1kseM3L._SY300_.jpg', price=15.95, title=u\"Why Don't They Just Quit? DVD Roundtable Discussion: What Families and Friends need to Know About Addiction and Recovery\")"
      ]
     },
     "execution_count": 16,
     "metadata": {},
     "output_type": "execute_result"
    }
   ],
   "source": [
    "moviePool = sqlContext.read.json(\"s3n://patricks3db/meta_Movies_and_TV.json\")\n",
    "#moviePool.printSchema()\n",
    "print moviePool.count()\n",
    "moviePool = moviePool.filter(moviePool.imUrl.endswith('jpg') | moviePool.imUrl.endswith('jpeg'))\n",
    "print moviePool.count()\n",
    "intmax = 2 ** 31 - 1\n",
    "from pyspark.sql.functions import udf\n",
    "from pyspark.sql.types import IntegerType\n",
    "createIntegerId = udf(lambda text: abs(hash(text))%intmax, IntegerType())\n",
    "moviePool = moviePool.withColumn('pid', createIntegerId(moviePool.asin))\n",
    "#moviePool.printSchema()\n",
    "moviePool = moviePool.select('pid', 'asin', 'brand', 'imUrl', 'price', 'title')\n",
    "moviePool.first()"
   ]
  },
  {
   "cell_type": "code",
   "execution_count": null,
   "metadata": {
    "collapsed": true
   },
   "outputs": [],
   "source": []
  },
  {
   "cell_type": "code",
   "execution_count": 17,
   "metadata": {
    "collapsed": true
   },
   "outputs": [],
   "source": [
    "def AddToCassandra_allcountsbatch_bypartition(d_iter):\n",
    "        class movieCatalog2(Model):\n",
    "                from cqlengine import columns\n",
    "                from cqlengine.models import Model\n",
    "                from cqlengine import connection\n",
    "                from cqlengine.management import sync_table\n",
    "                CASSANDRA_KEYSPACE = \"playground\"\n",
    "                pid = columns.Integer(primary_key=True)\n",
    "                asin = columns.Text(primary_key=True)\n",
    "                brand = columns.Text()\n",
    "                imUrl = columns.Text()\n",
    "                price = columns.Float()\n",
    "                title = columns.Text()\n",
    "        connection.setup(['172.31.39.226'], CASSANDRA_KEYSPACE)\n",
    "        sync_table(movieCatalog2)\n",
    "        for d in d_iter:\n",
    "                movieCatalog2.create(**d)\n",
    "# Create table if it does not exist. Need to do this before submitting to Spark to avoid collisions\n",
    "AddToCassandra_allcountsbatch_bypartition([])"
   ]
  },
  {
   "cell_type": "code",
   "execution_count": 18,
   "metadata": {
    "collapsed": false
   },
   "outputs": [],
   "source": [
    "moviePool.toJSON(use_unicode=False).map(lambda row: json.loads(row)).foreachPartition(AddToCassandra_allcountsbatch_bypartition)"
   ]
  },
  {
   "cell_type": "code",
   "execution_count": 19,
   "metadata": {
    "collapsed": false
   },
   "outputs": [
    {
     "name": "stdout",
     "output_type": "stream",
     "text": [
      "root\n",
      " |-- reviewerID: string (nullable = true)\n",
      " |-- reviewerName: string (nullable = true)\n",
      " |-- uid: integer (nullable = true)\n",
      "\n"
     ]
    }
   ],
   "source": [
    "userPool = df.select('reviewerID', 'reviewerName').distinct()\n",
    "intmax = 2 ** 31 - 1\n",
    "from pyspark.sql.functions import udf\n",
    "from pyspark.sql.types import IntegerType\n",
    "createIntegerId = udf(lambda text: abs(hash(text))%intmax, IntegerType())\n",
    "userPool = userPool.withColumn('uid', createIntegerId(userPool.reviewerID))\n",
    "userPool.printSchema()"
   ]
  },
  {
   "cell_type": "code",
   "execution_count": 20,
   "metadata": {
    "collapsed": false
   },
   "outputs": [],
   "source": [
    "def AddToCassandra_allcountsbatch_bypartition(d_iter):\n",
    "        class userbase2(Model):\n",
    "                from cqlengine import columns\n",
    "                from cqlengine.models import Model\n",
    "                from cqlengine import connection\n",
    "                from cqlengine.management import sync_table\n",
    "                CASSANDRA_KEYSPACE = \"playground\"\n",
    "                uid = columns.Integer(primary_key=True)\n",
    "                reviewerID = columns.Text(primary_key=True)\n",
    "                reviewerName = columns.Text()\n",
    "        connection.setup(['172.31.39.226'], CASSANDRA_KEYSPACE)\n",
    "        sync_table(userbase2)\n",
    "        for d in d_iter:\n",
    "                userbase2.create(**d)\n",
    "# Create table if it does not exist. Need to do this before submitting to Spark to avoid collisions\n",
    "AddToCassandra_allcountsbatch_bypartition([])"
   ]
  },
  {
   "cell_type": "code",
   "execution_count": 21,
   "metadata": {
    "collapsed": false
   },
   "outputs": [],
   "source": [
    "userPool.toJSON(use_unicode=False).map(lambda row: json.loads(row)).foreachPartition(AddToCassandra_allcountsbatch_bypartition)"
   ]
  },
  {
   "cell_type": "code",
   "execution_count": 22,
   "metadata": {
    "collapsed": false
   },
   "outputs": [
    {
     "data": {
      "text/plain": [
       "2098332"
      ]
     },
     "execution_count": 22,
     "metadata": {},
     "output_type": "execute_result"
    }
   ],
   "source": [
    "userPool.count()"
   ]
  },
  {
   "cell_type": "code",
   "execution_count": 45,
   "metadata": {
    "collapsed": false
   },
   "outputs": [],
   "source": [
    "#userMoviePair = userPool.select('uid').join(moviePool.select('pid')).cache()\n",
    "#userMoviePair.printSchema()\n",
    "#userMoviePair.rdd.getNumPartitions()"
   ]
  },
  {
   "cell_type": "code",
   "execution_count": 46,
   "metadata": {
    "collapsed": false
   },
   "outputs": [],
   "source": [
    "#recommendations = model.predictAll(userMoviePair.rdd)\n",
    "#print 'Patrick: done!'"
   ]
  },
  {
   "cell_type": "code",
   "execution_count": 47,
   "metadata": {
    "collapsed": true
   },
   "outputs": [],
   "source": [
    "#recommendationsToC = recommendations.map(lambda x: {\"user\":x[0], \"product\":x[1], \"rating\":x[2]}).cache()"
   ]
  },
  {
   "cell_type": "code",
   "execution_count": 48,
   "metadata": {
    "collapsed": false
   },
   "outputs": [],
   "source": [
    "def AddToCassandra_allcountsbatch_bypartition(d_iter):\n",
    "        from cqlengine import columns\n",
    "        from cqlengine.models import Model\n",
    "        from cqlengine import connection\n",
    "        from cqlengine.management import sync_table\n",
    "        CASSANDRA_KEYSPACE = \"playground\"\n",
    "        class predictions3(Model):\n",
    "                user = columns.Integer(primary_key=True)\n",
    "                product = columns.Integer()\n",
    "                rating = columns.Float(primary_key=True, clustering_order=\"DESC\")\n",
    "        connection.setup(['172.31.39.226'], CASSANDRA_KEYSPACE)\n",
    "        sync_table(predictions3)\n",
    "        for d in d_iter:\n",
    "                predictions3.create(**d)\n",
    "\n",
    "# Create table if it does not exist. Need to do this before submitting to Spark to avoid collisions\n",
    "AddToCassandra_allcountsbatch_bypartition([])\n",
    "#recommendationsToC.foreachPartition(AddToCassandra_allcountsbatch_bypartition)\n"
   ]
  },
  {
   "cell_type": "code",
   "execution_count": 56,
   "metadata": {
    "collapsed": false
   },
   "outputs": [],
   "source": [
    "testuid = 1981581556\n",
    "recommendations = model.recommendProducts(testuid, 20000)\n",
    "rmap = {'uid':testuid, 'rmap':dict([(x[1], x[2]) for x in recommendations])}"
   ]
  },
  {
   "cell_type": "code",
   "execution_count": 91,
   "metadata": {
    "collapsed": false
   },
   "outputs": [],
   "source": [
    "#compute recommmendation and save to cassandra\n",
    "def createRecommendations(uid, uname):\n",
    "    from pyspark.sql.functions import udf\n",
    "    from pyspark.sql.types import IntegerType\n",
    "    #addUid = udf(lambda inputUid: testuid, IntegerType())\n",
    "    #userMoviePair = moviePool.select('pid')\n",
    "    #print userMoviePair.printSchema()\n",
    "    #print type(userMoviePair)\n",
    "    #userMoviePair2 = userMoviePair.withColumn('uid', addUid(userMoviePair.pid)).select('uid','pid')\n",
    "    #print userMoviePair2.printSchema()\n",
    "    #print userMoviePair2.take(5)\n",
    "    recommendations = model.recommendProducts(testuid, 20000)\n",
    "    return {'user':uid, 'userName':uname, 'rmap':dict([(x[1], x[2]) for x in recommendations])}\n",
    "    #recommendationsToC = recommendations.map(lambda x: {\"user\":x[0], \"product\":x[1], \"rating\":x[2]}).cache()\n",
    "# createRecommendations(testuid, 'Patrick')"
   ]
  },
  {
   "cell_type": "code",
   "execution_count": 87,
   "metadata": {
    "collapsed": true
   },
   "outputs": [],
   "source": [
    "def loadRecommendations(d_iter):\n",
    "        from cqlengine import columns\n",
    "        from cqlengine.models import Model\n",
    "        from cqlengine import connection\n",
    "        from cqlengine.management import sync_table\n",
    "        CASSANDRA_KEYSPACE = \"playground\"\n",
    "        class predictions4(Model):\n",
    "                user = columns.Integer(primary_key=True)\n",
    "                rmap = columns.Map(columns.Integer(), columns.Float())\n",
    "        connection.setup(['172.31.39.226'], CASSANDRA_KEYSPACE)\n",
    "        sync_table(predictions4)\n",
    "        for d in d_iter:\n",
    "                predictions4.create(**d)\n",
    "\n",
    "# Create table if it does not exist. Need to do this before submitting to Spark to avoid collisions\n",
    "loadRecommendations([])\n",
    "#recommendationsToC.foreachPartition(AddToCassandra_allcountsbatch_bypartition)"
   ]
  },
  {
   "cell_type": "code",
   "execution_count": 81,
   "metadata": {
    "collapsed": false
   },
   "outputs": [
    {
     "name": "stdout",
     "output_type": "stream",
     "text": [
      "root\n",
      " |-- reviewerID: string (nullable = true)\n",
      " |-- reviewerName: string (nullable = true)\n",
      " |-- uid: integer (nullable = true)\n",
      "\n",
      "446818794\n"
     ]
    }
   ],
   "source": [
    "userPool.printSchema()\n",
    "#result = userPool.map(lambda x: createRecommendations(x.uid, x.reviewerName))\n",
    "uids = userPool.map(lambda x:x.uid).collect()\n",
    "uids[0]\n",
    "#result.foreachPartition(loadRecommendations)"
   ]
  },
  {
   "cell_type": "code",
   "execution_count": 89,
   "metadata": {
    "collapsed": true
   },
   "outputs": [],
   "source": [
    "from cassandra.cluster import Cluster\n",
    "cluster = Cluster(['172.31.39.223', '172.31.39.224'])\n",
    "session = cluster.connect()\n",
    "import json"
   ]
  },
  {
   "cell_type": "code",
   "execution_count": 92,
   "metadata": {
    "collapsed": false
   },
   "outputs": [
    {
     "name": "stderr",
     "output_type": "stream",
     "text": [
      "Traceback (most recent call last):\n",
      "  File \"/usr/lib/python2.7/SocketServer.py\", line 295, in _handle_request_noblock\n",
      "ERROR:py4j.java_gateway:Error while sending or receiving.\n",
      "Traceback (most recent call last):\n",
      "  File \"/usr/local/spark/python/lib/py4j-0.8.2.1-src.zip/py4j/java_gateway.py\", line 479, in send_command\n",
      "    raise Py4JError(\"Answer from Java side is empty\")\n",
      "Py4JError: Answer from Java side is empty\n",
      "ERROR:py4j.java_gateway:An error occurred while trying to connect to the Java server\n",
      "Traceback (most recent call last):\n",
      "  File \"/usr/local/spark/python/lib/py4j-0.8.2.1-src.zip/py4j/java_gateway.py\", line 425, in start\n",
      "    self.socket.connect((self.address, self.port))\n",
      "  File \"/usr/lib/python2.7/socket.py\", line 224, in meth\n",
      "    return getattr(self._sock,name)(*args)\n",
      "error: [Errno 111] Connection refused\n"
     ]
    },
    {
     "name": "stdout",
     "output_type": "stream",
     "text": [
      "----------------------------------------\n",
      "Exception happened during processing of request from ('127.0.0.1', 39381)\n",
      "----------------------------------------\n"
     ]
    },
    {
     "name": "stderr",
     "output_type": "stream",
     "text": [
      "    self.process_request(request, client_address)\n",
      "  File \"/usr/lib/python2.7/SocketServer.py\", line 321, in process_request\n",
      "    self.finish_request(request, client_address)\n",
      "  File \"/usr/lib/python2.7/SocketServer.py\", line 334, in finish_request\n",
      "    self.RequestHandlerClass(request, client_address, self)\n",
      "  File \"/usr/lib/python2.7/SocketServer.py\", line 649, in __init__\n",
      "    self.handle()\n",
      "  File \"/usr/local/spark/python/pyspark/accumulators.py\", line 235, in handle\n",
      "    num_updates = read_int(self.rfile)\n",
      "  File \"/usr/local/spark/python/pyspark/serializers.py\", line 544, in read_int\n",
      "    raise EOFError\n",
      "EOFError\n"
     ]
    },
    {
     "ename": "Py4JNetworkError",
     "evalue": "An error occurred while trying to connect to the Java server",
     "output_type": "error",
     "traceback": [
      "\u001b[1;31m---------------------------------------------------------------------------\u001b[0m",
      "\u001b[1;31mPy4JNetworkError\u001b[0m                          Traceback (most recent call last)",
      "\u001b[1;32m<ipython-input-92-628e60b78955>\u001b[0m in \u001b[0;36m<module>\u001b[1;34m()\u001b[0m\n\u001b[0;32m      1\u001b[0m \u001b[1;32mfor\u001b[0m \u001b[0muid\u001b[0m \u001b[1;32min\u001b[0m \u001b[0muids\u001b[0m\u001b[1;33m:\u001b[0m\u001b[1;33m\u001b[0m\u001b[0m\n\u001b[1;32m----> 2\u001b[1;33m     \u001b[0mrecommendations\u001b[0m \u001b[1;33m=\u001b[0m \u001b[0mmodel\u001b[0m\u001b[1;33m.\u001b[0m\u001b[0mrecommendProducts\u001b[0m\u001b[1;33m(\u001b[0m\u001b[0muid\u001b[0m\u001b[1;33m,\u001b[0m \u001b[1;36m2000\u001b[0m\u001b[1;33m)\u001b[0m\u001b[1;33m\u001b[0m\u001b[0m\n\u001b[0m\u001b[0;32m      3\u001b[0m     \u001b[0mjsonObject\u001b[0m \u001b[1;33m=\u001b[0m \u001b[1;33m{\u001b[0m\u001b[1;34m'user'\u001b[0m\u001b[1;33m:\u001b[0m\u001b[0muid\u001b[0m\u001b[1;33m,\u001b[0m \u001b[1;34m'rmap'\u001b[0m\u001b[1;33m:\u001b[0m\u001b[0mdict\u001b[0m\u001b[1;33m(\u001b[0m\u001b[1;33m[\u001b[0m\u001b[1;33m(\u001b[0m\u001b[0mx\u001b[0m\u001b[1;33m[\u001b[0m\u001b[1;36m1\u001b[0m\u001b[1;33m]\u001b[0m\u001b[1;33m,\u001b[0m \u001b[0mx\u001b[0m\u001b[1;33m[\u001b[0m\u001b[1;36m2\u001b[0m\u001b[1;33m]\u001b[0m\u001b[1;33m)\u001b[0m \u001b[1;32mfor\u001b[0m \u001b[0mx\u001b[0m \u001b[1;32min\u001b[0m \u001b[0mrecommendations\u001b[0m\u001b[1;33m]\u001b[0m\u001b[1;33m)\u001b[0m\u001b[1;33m}\u001b[0m\u001b[1;33m\u001b[0m\u001b[0m\n\u001b[0;32m      4\u001b[0m     \u001b[0msession\u001b[0m\u001b[1;33m.\u001b[0m\u001b[0mexecute\u001b[0m\u001b[1;33m(\u001b[0m\u001b[1;34m\"insert into playground.predictions4 json '\"\u001b[0m \u001b[1;33m+\u001b[0m \u001b[0mjson\u001b[0m\u001b[1;33m.\u001b[0m\u001b[0mdumps\u001b[0m\u001b[1;33m(\u001b[0m\u001b[0mjsonObject\u001b[0m\u001b[1;33m)\u001b[0m \u001b[1;33m+\u001b[0m \u001b[1;34m\"';\"\u001b[0m\u001b[1;33m)\u001b[0m\u001b[1;33m\u001b[0m\u001b[0m\n",
      "\u001b[1;32m/usr/local/spark/python/pyspark/mllib/recommendation.pyc\u001b[0m in \u001b[0;36mrecommendProducts\u001b[1;34m(self, user, num)\u001b[0m\n\u001b[0;32m    155\u001b[0m         \u001b[0mof\u001b[0m \u001b[0mRating\u001b[0m \u001b[0mobjects\u001b[0m \u001b[0msorted\u001b[0m \u001b[0mby\u001b[0m \u001b[0mthe\u001b[0m \u001b[0mpredicted\u001b[0m \u001b[0mrating\u001b[0m \u001b[1;32min\u001b[0m \u001b[0mdescending\u001b[0m \u001b[0morder\u001b[0m\u001b[1;33m.\u001b[0m\u001b[1;33m\u001b[0m\u001b[0m\n\u001b[0;32m    156\u001b[0m         \"\"\"\n\u001b[1;32m--> 157\u001b[1;33m         \u001b[1;32mreturn\u001b[0m \u001b[0mlist\u001b[0m\u001b[1;33m(\u001b[0m\u001b[0mself\u001b[0m\u001b[1;33m.\u001b[0m\u001b[0mcall\u001b[0m\u001b[1;33m(\u001b[0m\u001b[1;34m\"recommendProducts\"\u001b[0m\u001b[1;33m,\u001b[0m \u001b[0muser\u001b[0m\u001b[1;33m,\u001b[0m \u001b[0mnum\u001b[0m\u001b[1;33m)\u001b[0m\u001b[1;33m)\u001b[0m\u001b[1;33m\u001b[0m\u001b[0m\n\u001b[0m\u001b[0;32m    158\u001b[0m \u001b[1;33m\u001b[0m\u001b[0m\n\u001b[0;32m    159\u001b[0m     \u001b[1;33m@\u001b[0m\u001b[0mproperty\u001b[0m\u001b[1;33m\u001b[0m\u001b[0m\n",
      "\u001b[1;32m/usr/local/spark/python/pyspark/mllib/common.pyc\u001b[0m in \u001b[0;36mcall\u001b[1;34m(self, name, *a)\u001b[0m\n\u001b[0;32m    142\u001b[0m     \u001b[1;32mdef\u001b[0m \u001b[0mcall\u001b[0m\u001b[1;33m(\u001b[0m\u001b[0mself\u001b[0m\u001b[1;33m,\u001b[0m \u001b[0mname\u001b[0m\u001b[1;33m,\u001b[0m \u001b[1;33m*\u001b[0m\u001b[0ma\u001b[0m\u001b[1;33m)\u001b[0m\u001b[1;33m:\u001b[0m\u001b[1;33m\u001b[0m\u001b[0m\n\u001b[0;32m    143\u001b[0m         \u001b[1;34m\"\"\"Call method of java_model\"\"\"\u001b[0m\u001b[1;33m\u001b[0m\u001b[0m\n\u001b[1;32m--> 144\u001b[1;33m         \u001b[1;32mreturn\u001b[0m \u001b[0mcallJavaFunc\u001b[0m\u001b[1;33m(\u001b[0m\u001b[0mself\u001b[0m\u001b[1;33m.\u001b[0m\u001b[0m_sc\u001b[0m\u001b[1;33m,\u001b[0m \u001b[0mgetattr\u001b[0m\u001b[1;33m(\u001b[0m\u001b[0mself\u001b[0m\u001b[1;33m.\u001b[0m\u001b[0m_java_model\u001b[0m\u001b[1;33m,\u001b[0m \u001b[0mname\u001b[0m\u001b[1;33m)\u001b[0m\u001b[1;33m,\u001b[0m \u001b[1;33m*\u001b[0m\u001b[0ma\u001b[0m\u001b[1;33m)\u001b[0m\u001b[1;33m\u001b[0m\u001b[0m\n\u001b[0m\u001b[0;32m    145\u001b[0m \u001b[1;33m\u001b[0m\u001b[0m\n\u001b[0;32m    146\u001b[0m \u001b[1;33m\u001b[0m\u001b[0m\n",
      "\u001b[1;32m/usr/local/spark/python/pyspark/mllib/common.pyc\u001b[0m in \u001b[0;36mcallJavaFunc\u001b[1;34m(sc, func, *args)\u001b[0m\n\u001b[0;32m    119\u001b[0m     \u001b[1;34m\"\"\" Call Java Function \"\"\"\u001b[0m\u001b[1;33m\u001b[0m\u001b[0m\n\u001b[0;32m    120\u001b[0m     \u001b[0margs\u001b[0m \u001b[1;33m=\u001b[0m \u001b[1;33m[\u001b[0m\u001b[0m_py2java\u001b[0m\u001b[1;33m(\u001b[0m\u001b[0msc\u001b[0m\u001b[1;33m,\u001b[0m \u001b[0ma\u001b[0m\u001b[1;33m)\u001b[0m \u001b[1;32mfor\u001b[0m \u001b[0ma\u001b[0m \u001b[1;32min\u001b[0m \u001b[0margs\u001b[0m\u001b[1;33m]\u001b[0m\u001b[1;33m\u001b[0m\u001b[0m\n\u001b[1;32m--> 121\u001b[1;33m     \u001b[1;32mreturn\u001b[0m \u001b[0m_java2py\u001b[0m\u001b[1;33m(\u001b[0m\u001b[0msc\u001b[0m\u001b[1;33m,\u001b[0m \u001b[0mfunc\u001b[0m\u001b[1;33m(\u001b[0m\u001b[1;33m*\u001b[0m\u001b[0margs\u001b[0m\u001b[1;33m)\u001b[0m\u001b[1;33m)\u001b[0m\u001b[1;33m\u001b[0m\u001b[0m\n\u001b[0m\u001b[0;32m    122\u001b[0m \u001b[1;33m\u001b[0m\u001b[0m\n\u001b[0;32m    123\u001b[0m \u001b[1;33m\u001b[0m\u001b[0m\n",
      "\u001b[1;32m/usr/local/spark/python/lib/py4j-0.8.2.1-src.zip/py4j/java_gateway.py\u001b[0m in \u001b[0;36m__call__\u001b[1;34m(self, *args)\u001b[0m\n\u001b[0;32m    534\u001b[0m             \u001b[0mEND_COMMAND_PART\u001b[0m\u001b[1;33m\u001b[0m\u001b[0m\n\u001b[0;32m    535\u001b[0m \u001b[1;33m\u001b[0m\u001b[0m\n\u001b[1;32m--> 536\u001b[1;33m         \u001b[0manswer\u001b[0m \u001b[1;33m=\u001b[0m \u001b[0mself\u001b[0m\u001b[1;33m.\u001b[0m\u001b[0mgateway_client\u001b[0m\u001b[1;33m.\u001b[0m\u001b[0msend_command\u001b[0m\u001b[1;33m(\u001b[0m\u001b[0mcommand\u001b[0m\u001b[1;33m)\u001b[0m\u001b[1;33m\u001b[0m\u001b[0m\n\u001b[0m\u001b[0;32m    537\u001b[0m         return_value = get_return_value(answer, self.gateway_client,\n\u001b[0;32m    538\u001b[0m                 self.target_id, self.name)\n",
      "\u001b[1;32m/usr/local/spark/python/lib/py4j-0.8.2.1-src.zip/py4j/java_gateway.py\u001b[0m in \u001b[0;36msend_command\u001b[1;34m(self, command, retry)\u001b[0m\n\u001b[0;32m    367\u001b[0m             \u001b[1;32mif\u001b[0m \u001b[0mretry\u001b[0m\u001b[1;33m:\u001b[0m\u001b[1;33m\u001b[0m\u001b[0m\n\u001b[0;32m    368\u001b[0m                 \u001b[1;31m#print_exc()\u001b[0m\u001b[1;33m\u001b[0m\u001b[1;33m\u001b[0m\u001b[0m\n\u001b[1;32m--> 369\u001b[1;33m                 \u001b[0mresponse\u001b[0m \u001b[1;33m=\u001b[0m \u001b[0mself\u001b[0m\u001b[1;33m.\u001b[0m\u001b[0msend_command\u001b[0m\u001b[1;33m(\u001b[0m\u001b[0mcommand\u001b[0m\u001b[1;33m)\u001b[0m\u001b[1;33m\u001b[0m\u001b[0m\n\u001b[0m\u001b[0;32m    370\u001b[0m             \u001b[1;32melse\u001b[0m\u001b[1;33m:\u001b[0m\u001b[1;33m\u001b[0m\u001b[0m\n\u001b[0;32m    371\u001b[0m                 \u001b[0mresponse\u001b[0m \u001b[1;33m=\u001b[0m \u001b[0mERROR\u001b[0m\u001b[1;33m\u001b[0m\u001b[0m\n",
      "\u001b[1;32m/usr/local/spark/python/lib/py4j-0.8.2.1-src.zip/py4j/java_gateway.py\u001b[0m in \u001b[0;36msend_command\u001b[1;34m(self, command, retry)\u001b[0m\n\u001b[0;32m    360\u001b[0m          \u001b[0mthe\u001b[0m \u001b[0mPy4J\u001b[0m \u001b[0mprotocol\u001b[0m\u001b[1;33m.\u001b[0m\u001b[1;33m\u001b[0m\u001b[0m\n\u001b[0;32m    361\u001b[0m         \"\"\"\n\u001b[1;32m--> 362\u001b[1;33m         \u001b[0mconnection\u001b[0m \u001b[1;33m=\u001b[0m \u001b[0mself\u001b[0m\u001b[1;33m.\u001b[0m\u001b[0m_get_connection\u001b[0m\u001b[1;33m(\u001b[0m\u001b[1;33m)\u001b[0m\u001b[1;33m\u001b[0m\u001b[0m\n\u001b[0m\u001b[0;32m    363\u001b[0m         \u001b[1;32mtry\u001b[0m\u001b[1;33m:\u001b[0m\u001b[1;33m\u001b[0m\u001b[0m\n\u001b[0;32m    364\u001b[0m             \u001b[0mresponse\u001b[0m \u001b[1;33m=\u001b[0m \u001b[0mconnection\u001b[0m\u001b[1;33m.\u001b[0m\u001b[0msend_command\u001b[0m\u001b[1;33m(\u001b[0m\u001b[0mcommand\u001b[0m\u001b[1;33m)\u001b[0m\u001b[1;33m\u001b[0m\u001b[0m\n",
      "\u001b[1;32m/usr/local/spark/python/lib/py4j-0.8.2.1-src.zip/py4j/java_gateway.py\u001b[0m in \u001b[0;36m_get_connection\u001b[1;34m(self)\u001b[0m\n\u001b[0;32m    316\u001b[0m             \u001b[0mconnection\u001b[0m \u001b[1;33m=\u001b[0m \u001b[0mself\u001b[0m\u001b[1;33m.\u001b[0m\u001b[0mdeque\u001b[0m\u001b[1;33m.\u001b[0m\u001b[0mpop\u001b[0m\u001b[1;33m(\u001b[0m\u001b[1;33m)\u001b[0m\u001b[1;33m\u001b[0m\u001b[0m\n\u001b[0;32m    317\u001b[0m         \u001b[1;32mexcept\u001b[0m \u001b[0mException\u001b[0m\u001b[1;33m:\u001b[0m\u001b[1;33m\u001b[0m\u001b[0m\n\u001b[1;32m--> 318\u001b[1;33m             \u001b[0mconnection\u001b[0m \u001b[1;33m=\u001b[0m \u001b[0mself\u001b[0m\u001b[1;33m.\u001b[0m\u001b[0m_create_connection\u001b[0m\u001b[1;33m(\u001b[0m\u001b[1;33m)\u001b[0m\u001b[1;33m\u001b[0m\u001b[0m\n\u001b[0m\u001b[0;32m    319\u001b[0m         \u001b[1;32mreturn\u001b[0m \u001b[0mconnection\u001b[0m\u001b[1;33m\u001b[0m\u001b[0m\n\u001b[0;32m    320\u001b[0m \u001b[1;33m\u001b[0m\u001b[0m\n",
      "\u001b[1;32m/usr/local/spark/python/lib/py4j-0.8.2.1-src.zip/py4j/java_gateway.py\u001b[0m in \u001b[0;36m_create_connection\u001b[1;34m(self)\u001b[0m\n\u001b[0;32m    323\u001b[0m         connection = GatewayConnection(self.address, self.port,\n\u001b[0;32m    324\u001b[0m                 self.auto_close, self.gateway_property)\n\u001b[1;32m--> 325\u001b[1;33m         \u001b[0mconnection\u001b[0m\u001b[1;33m.\u001b[0m\u001b[0mstart\u001b[0m\u001b[1;33m(\u001b[0m\u001b[1;33m)\u001b[0m\u001b[1;33m\u001b[0m\u001b[0m\n\u001b[0m\u001b[0;32m    326\u001b[0m         \u001b[1;32mreturn\u001b[0m \u001b[0mconnection\u001b[0m\u001b[1;33m\u001b[0m\u001b[0m\n\u001b[0;32m    327\u001b[0m \u001b[1;33m\u001b[0m\u001b[0m\n",
      "\u001b[1;32m/usr/local/spark/python/lib/py4j-0.8.2.1-src.zip/py4j/java_gateway.py\u001b[0m in \u001b[0;36mstart\u001b[1;34m(self)\u001b[0m\n\u001b[0;32m    430\u001b[0m                 \u001b[1;34m'server'\u001b[0m\u001b[1;33m\u001b[0m\u001b[0m\n\u001b[0;32m    431\u001b[0m             \u001b[0mlogger\u001b[0m\u001b[1;33m.\u001b[0m\u001b[0mexception\u001b[0m\u001b[1;33m(\u001b[0m\u001b[0mmsg\u001b[0m\u001b[1;33m)\u001b[0m\u001b[1;33m\u001b[0m\u001b[0m\n\u001b[1;32m--> 432\u001b[1;33m             \u001b[1;32mraise\u001b[0m \u001b[0mPy4JNetworkError\u001b[0m\u001b[1;33m(\u001b[0m\u001b[0mmsg\u001b[0m\u001b[1;33m)\u001b[0m\u001b[1;33m\u001b[0m\u001b[0m\n\u001b[0m\u001b[0;32m    433\u001b[0m \u001b[1;33m\u001b[0m\u001b[0m\n\u001b[0;32m    434\u001b[0m     \u001b[1;32mdef\u001b[0m \u001b[0mclose\u001b[0m\u001b[1;33m(\u001b[0m\u001b[0mself\u001b[0m\u001b[1;33m)\u001b[0m\u001b[1;33m:\u001b[0m\u001b[1;33m\u001b[0m\u001b[0m\n",
      "\u001b[1;31mPy4JNetworkError\u001b[0m: An error occurred while trying to connect to the Java server"
     ]
    }
   ],
   "source": [
    "for uid in uids:\n",
    "    recommendations = model.recommendProducts(uid, 2000)\n",
    "    jsonObject = {'user':uid, 'rmap':dict([(x[1], x[2]) for x in recommendations])}\n",
    "    session.execute(\"insert into playground.predictions4 json '\" + json.dumps(jsonObject) + \"';\")"
   ]
  },
  {
   "cell_type": "code",
   "execution_count": null,
   "metadata": {
    "collapsed": false
   },
   "outputs": [],
   "source": [
    "\"\"\"\n",
    "userPool.printSchema()\n",
    "#userList = userPool.map(lambda row: row.uid).take(50)\n",
    "userList = userPool.map(lambda row: row.uid).collect()\n",
    "#print userList\n",
    "\"\"\""
   ]
  },
  {
   "cell_type": "code",
   "execution_count": null,
   "metadata": {
    "collapsed": false
   },
   "outputs": [],
   "source": [
    "#for uid in userList: createRecommendationsForAll(uid)"
   ]
  },
  {
   "cell_type": "code",
   "execution_count": null,
   "metadata": {
    "collapsed": false
   },
   "outputs": [],
   "source": [
    "\"\"\"\n",
    "testuid = 1981581556\n",
    "from pyspark.sql.functions import udf\n",
    "from pyspark.sql.types import IntegerType\n",
    "addUid = udf(lambda inputUid: testuid, IntegerType())\n",
    "userMoviePair = moviePool.select('pid')\n",
    "#print userMoviePair.printSchema()\n",
    "#print type(userMoviePair)\n",
    "userMoviePair2 = userMoviePair.withColumn('uid', addUid(userMoviePair.pid)).select('uid','pid')\n",
    "#print userMoviePair2.printSchema()\n",
    "#print userMoviePair2.take(5)\n",
    "recommendations = model.predictAll(userMoviePair2.rdd.cache())\n",
    "print recommendations.take(5)\n",
    "recommendationsToC = recommendations.map(lambda x: {\"user\":x[0], \"product\":x[1], \"rating\":x[2]}).cache()\n",
    "print recommendationsToC.take(5)\n",
    "recommendationsToC.foreachPartition(AddToCassandra_allcountsbatch_bypartition)\n",
    "\"\"\""
   ]
  },
  {
   "cell_type": "code",
   "execution_count": null,
   "metadata": {
    "collapsed": true
   },
   "outputs": [],
   "source": []
  },
  {
   "cell_type": "code",
   "execution_count": null,
   "metadata": {
    "collapsed": true
   },
   "outputs": [],
   "source": []
  }
 ],
 "metadata": {
  "kernelspec": {
   "display_name": "Python 2",
   "language": "python",
   "name": "python2"
  },
  "language_info": {
   "codemirror_mode": {
    "name": "ipython",
    "version": 2
   },
   "file_extension": ".py",
   "mimetype": "text/x-python",
   "name": "python",
   "nbconvert_exporter": "python",
   "pygments_lexer": "ipython2",
   "version": "2.7.6"
  }
 },
 "nbformat": 4,
 "nbformat_minor": 0
}
