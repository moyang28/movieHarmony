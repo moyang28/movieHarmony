{
 "cells": [
  {
   "cell_type": "code",
   "execution_count": null,
   "metadata": {
    "collapsed": true
   },
   "outputs": [],
   "source": [
    "import json"
   ]
  },
  {
   "cell_type": "code",
   "execution_count": 1,
   "metadata": {
    "collapsed": true
   },
   "outputs": [],
   "source": [
    "from kafka import KafkaClient, SimpleConsumer\n",
    "kafka = KafkaClient(\"ec2-52-26-15-148.us-west-2.compute.amazonaws.com:9092\")\n",
    "consumer = SimpleConsumer(kafka, \"my-group\", \"moviereview9\")\n"
   ]
  },
  {
   "cell_type": "code",
   "execution_count": 10,
   "metadata": {
    "collapsed": false
   },
   "outputs": [
    {
     "name": "stdout",
     "output_type": "stream",
     "text": [
      "[OffsetAndMessage(offset=5, message=Message(magic=0, attributes=0, key=None, value='{\"reviewerID\": \"888888\", \"asin\": \"B000003K81\", \"reviewerName\": null, \"helpful\": null, \"unixReviewTime\": null, \"reviewText\": \"Really_interesting_movie_\", \"overall\": 4.0, \"reviewTime\": null, \"summary\": \"I_love_this_movie\"}')), OffsetAndMessage(offset=6, message=Message(magic=0, attributes=0, key=None, value='{\"reviewerID\": \"888888\", \"asin\": \"B000003K81\", \"reviewerName\": null, \"helpful\": null, \"unixReviewTime\": null, \"reviewText\": \"Really_interesting_movie_\", \"overall\": 4.0, \"reviewTime\": null, \"summary\": \"I_love_this_movie\"}')), OffsetAndMessage(offset=7, message=Message(magic=0, attributes=0, key=None, value='{\"reviewerID\": \"888888\", \"asin\": \"B000003K81\", \"reviewerName\": null, \"helpful\": null, \"unixReviewTime\": null, \"reviewText\": \"Really_interesting_movie_\", \"overall\": 4.0, \"reviewTime\": null, \"summary\": \"I_love_this_movie\"}')), OffsetAndMessage(offset=8, message=Message(magic=0, attributes=0, key=None, value='{\"reviewerID\": \"888888\", \"asin\": \"B000003K81\", \"reviewerName\": null, \"helpful\": null, \"unixReviewTime\": null, \"reviewText\": \"Really_interesting_movie_\", \"overall\": 4.0, \"reviewTime\": null, \"summary\": \"I_love_this_movie\"}')), OffsetAndMessage(offset=9, message=Message(magic=0, attributes=0, key=None, value='{\"reviewerID\": \"888888\", \"asin\": \"B000003K81\", \"reviewerName\": null, \"helpful\": null, \"unixReviewTime\": null, \"reviewText\": \"Really_interesting_movie_\", \"overall\": 4.0, \"reviewTime\": null, \"summary\": \"I_love_this_movie\"}')), OffsetAndMessage(offset=16, message=Message(magic=0, attributes=0, key=None, value='{\"reviewerID\": \"888888\", \"asin\": \"B000003K81\", \"reviewerName\": null, \"helpful\": null, \"unixReviewTime\": null, \"reviewText\": \"Really_interesting_movie_\", \"overall\": 4.0, \"reviewTime\": null, \"summary\": \"I_love_this_movie\"}')), OffsetAndMessage(offset=17, message=Message(magic=0, attributes=0, key=None, value='{\"reviewerID\": \"888888\", \"asin\": \"B000003K81\", \"reviewerName\": null, \"helpful\": null, \"unixReviewTime\": null, \"reviewText\": \"Really_interesting_movie_\", \"overall\": 4.0, \"reviewTime\": null, \"summary\": \"I_love_this_movie\"}'))]\n"
     ]
    }
   ],
   "source": [
    "#time.sleep(6)\n",
    "messages = consumer.get_messages(100)\n",
    "print messages"
   ]
  },
  {
   "cell_type": "code",
   "execution_count": 14,
   "metadata": {
    "collapsed": false,
    "scrolled": true
   },
   "outputs": [
    {
     "name": "stdout",
     "output_type": "stream",
     "text": [
      "[{u'reviewerID': u'888888', u'asin': u'B000003K81', u'reviewerName': None, u'helpful': None, u'reviewText': u'Really_interesting_movie_', u'overall': 4.0, u'summary': u'I_love_this_movie', u'unixReviewTime': None, u'reviewTime': None}, {u'reviewerID': u'888888', u'asin': u'B000003K81', u'reviewerName': None, u'helpful': None, u'reviewText': u'Really_interesting_movie_', u'overall': 4.0, u'summary': u'I_love_this_movie', u'unixReviewTime': None, u'reviewTime': None}, {u'reviewerID': u'888888', u'asin': u'B000003K81', u'reviewerName': None, u'helpful': None, u'reviewText': u'Really_interesting_movie_', u'overall': 4.0, u'summary': u'I_love_this_movie', u'unixReviewTime': None, u'reviewTime': None}, {u'reviewerID': u'888888', u'asin': u'B000003K81', u'reviewerName': None, u'helpful': None, u'reviewText': u'Really_interesting_movie_', u'overall': 4.0, u'summary': u'I_love_this_movie', u'unixReviewTime': None, u'reviewTime': None}, {u'reviewerID': u'888888', u'asin': u'B000003K81', u'reviewerName': None, u'helpful': None, u'reviewText': u'Really_interesting_movie_', u'overall': 4.0, u'summary': u'I_love_this_movie', u'unixReviewTime': None, u'reviewTime': None}, {u'reviewerID': u'888888', u'asin': u'B000003K81', u'reviewerName': None, u'helpful': None, u'reviewText': u'Really_interesting_movie_', u'overall': 4.0, u'summary': u'I_love_this_movie', u'unixReviewTime': None, u'reviewTime': None}, {u'reviewerID': u'888888', u'asin': u'B000003K81', u'reviewerName': None, u'helpful': None, u'reviewText': u'Really_interesting_movie_', u'overall': 4.0, u'summary': u'I_love_this_movie', u'unixReviewTime': None, u'reviewTime': None}]\n"
     ]
    }
   ],
   "source": [
    "jsonList = [json.loads(message.message.value) for message in messages]\n",
    "print jsonList"
   ]
  },
  {
   "cell_type": "code",
   "execution_count": 15,
   "metadata": {
    "collapsed": false
   },
   "outputs": [
    {
     "name": "stdout",
     "output_type": "stream",
     "text": [
      "[{\"reviewerID\": \"888888\", \"asin\": \"B000003K81\", \"reviewerName\": null, \"helpful\": null, \"reviewText\": \"Really_interesting_movie_\", \"overall\": 4.0, \"summary\": \"I_love_this_movie\", \"unixReviewTime\": null, \"reviewTime\": null}, {\"reviewerID\": \"888888\", \"asin\": \"B000003K81\", \"reviewerName\": null, \"helpful\": null, \"reviewText\": \"Really_interesting_movie_\", \"overall\": 4.0, \"summary\": \"I_love_this_movie\", \"unixReviewTime\": null, \"reviewTime\": null}, {\"reviewerID\": \"888888\", \"asin\": \"B000003K81\", \"reviewerName\": null, \"helpful\": null, \"reviewText\": \"Really_interesting_movie_\", \"overall\": 4.0, \"summary\": \"I_love_this_movie\", \"unixReviewTime\": null, \"reviewTime\": null}, {\"reviewerID\": \"888888\", \"asin\": \"B000003K81\", \"reviewerName\": null, \"helpful\": null, \"reviewText\": \"Really_interesting_movie_\", \"overall\": 4.0, \"summary\": \"I_love_this_movie\", \"unixReviewTime\": null, \"reviewTime\": null}, {\"reviewerID\": \"888888\", \"asin\": \"B000003K81\", \"reviewerName\": null, \"helpful\": null, \"reviewText\": \"Really_interesting_movie_\", \"overall\": 4.0, \"summary\": \"I_love_this_movie\", \"unixReviewTime\": null, \"reviewTime\": null}, {\"reviewerID\": \"888888\", \"asin\": \"B000003K81\", \"reviewerName\": null, \"helpful\": null, \"reviewText\": \"Really_interesting_movie_\", \"overall\": 4.0, \"summary\": \"I_love_this_movie\", \"unixReviewTime\": null, \"reviewTime\": null}, {\"reviewerID\": \"888888\", \"asin\": \"B000003K81\", \"reviewerName\": null, \"helpful\": null, \"reviewText\": \"Really_interesting_movie_\", \"overall\": 4.0, \"summary\": \"I_love_this_movie\", \"unixReviewTime\": null, \"reviewTime\": null}]\n"
     ]
    }
   ],
   "source": [
    "print json.dumps(jsonList)"
   ]
  },
  {
   "cell_type": "code",
   "execution_count": 18,
   "metadata": {
    "collapsed": false
   },
   "outputs": [],
   "source": [
    "from boto.s3.connection import S3Connection"
   ]
  },
  {
   "cell_type": "code",
   "execution_count": 28,
   "metadata": {
    "collapsed": false
   },
   "outputs": [],
   "source": [
    "import os\n",
    "#print os.environ.get('AWS_ACCESS_KEY_ID')\n",
    "#print os.environ.get('AWS_SECRET_ACCESS_KEY')"
   ]
  },
  {
   "cell_type": "code",
   "execution_count": 19,
   "metadata": {
    "collapsed": true
   },
   "outputs": [],
   "source": [
    "conn = S3Connection(os.environ.get('AWS_ACCESS_KEY_ID'), os.environ.get('AWS_SECRET_ACCESS_KEY'))"
   ]
  },
  {
   "cell_type": "code",
   "execution_count": null,
   "metadata": {
    "collapsed": true
   },
   "outputs": [],
   "source": []
  },
  {
   "cell_type": "code",
   "execution_count": 24,
   "metadata": {
    "collapsed": false
   },
   "outputs": [
    {
     "ename": "S3ResponseError",
     "evalue": "S3ResponseError: 403 Forbidden\n",
     "output_type": "error",
     "traceback": [
      "\u001b[1;31m---------------------------------------------------------------------------\u001b[0m",
      "\u001b[1;31mS3ResponseError\u001b[0m                           Traceback (most recent call last)",
      "\u001b[1;32m<ipython-input-24-10520ed19510>\u001b[0m in \u001b[0;36m<module>\u001b[1;34m()\u001b[0m\n\u001b[1;32m----> 1\u001b[1;33m \u001b[0mmybucket\u001b[0m \u001b[1;33m=\u001b[0m \u001b[0mconn\u001b[0m\u001b[1;33m.\u001b[0m\u001b[0mget_bucket\u001b[0m\u001b[1;33m(\u001b[0m\u001b[1;34m'mybucket'\u001b[0m\u001b[1;33m)\u001b[0m\u001b[1;33m\u001b[0m\u001b[0m\n\u001b[0m\u001b[0;32m      2\u001b[0m \u001b[0mmybucket\u001b[0m\u001b[1;33m.\u001b[0m\u001b[0mlist\u001b[0m\u001b[1;33m(\u001b[0m\u001b[1;33m)\u001b[0m\u001b[1;33m\u001b[0m\u001b[0m\n",
      "\u001b[1;32m/usr/local/lib/python2.7/dist-packages/boto/s3/connection.pyc\u001b[0m in \u001b[0;36mget_bucket\u001b[1;34m(self, bucket_name, validate, headers)\u001b[0m\n\u001b[0;32m    500\u001b[0m         \"\"\"\n\u001b[0;32m    501\u001b[0m         \u001b[1;32mif\u001b[0m \u001b[0mvalidate\u001b[0m\u001b[1;33m:\u001b[0m\u001b[1;33m\u001b[0m\u001b[0m\n\u001b[1;32m--> 502\u001b[1;33m             \u001b[1;32mreturn\u001b[0m \u001b[0mself\u001b[0m\u001b[1;33m.\u001b[0m\u001b[0mhead_bucket\u001b[0m\u001b[1;33m(\u001b[0m\u001b[0mbucket_name\u001b[0m\u001b[1;33m,\u001b[0m \u001b[0mheaders\u001b[0m\u001b[1;33m=\u001b[0m\u001b[0mheaders\u001b[0m\u001b[1;33m)\u001b[0m\u001b[1;33m\u001b[0m\u001b[0m\n\u001b[0m\u001b[0;32m    503\u001b[0m         \u001b[1;32melse\u001b[0m\u001b[1;33m:\u001b[0m\u001b[1;33m\u001b[0m\u001b[0m\n\u001b[0;32m    504\u001b[0m             \u001b[1;32mreturn\u001b[0m \u001b[0mself\u001b[0m\u001b[1;33m.\u001b[0m\u001b[0mbucket_class\u001b[0m\u001b[1;33m(\u001b[0m\u001b[0mself\u001b[0m\u001b[1;33m,\u001b[0m \u001b[0mbucket_name\u001b[0m\u001b[1;33m)\u001b[0m\u001b[1;33m\u001b[0m\u001b[0m\n",
      "\u001b[1;32m/usr/local/lib/python2.7/dist-packages/boto/s3/connection.pyc\u001b[0m in \u001b[0;36mhead_bucket\u001b[1;34m(self, bucket_name, headers)\u001b[0m\n\u001b[0;32m    533\u001b[0m             \u001b[0merr\u001b[0m\u001b[1;33m.\u001b[0m\u001b[0merror_code\u001b[0m \u001b[1;33m=\u001b[0m \u001b[1;34m'AccessDenied'\u001b[0m\u001b[1;33m\u001b[0m\u001b[0m\n\u001b[0;32m    534\u001b[0m             \u001b[0merr\u001b[0m\u001b[1;33m.\u001b[0m\u001b[0merror_message\u001b[0m \u001b[1;33m=\u001b[0m \u001b[1;34m'Access Denied'\u001b[0m\u001b[1;33m\u001b[0m\u001b[0m\n\u001b[1;32m--> 535\u001b[1;33m             \u001b[1;32mraise\u001b[0m \u001b[0merr\u001b[0m\u001b[1;33m\u001b[0m\u001b[0m\n\u001b[0m\u001b[0;32m    536\u001b[0m         \u001b[1;32melif\u001b[0m \u001b[0mresponse\u001b[0m\u001b[1;33m.\u001b[0m\u001b[0mstatus\u001b[0m \u001b[1;33m==\u001b[0m \u001b[1;36m404\u001b[0m\u001b[1;33m:\u001b[0m\u001b[1;33m\u001b[0m\u001b[0m\n\u001b[0;32m    537\u001b[0m             \u001b[1;31m# For backward-compatibility, we'll populate part of the exception\u001b[0m\u001b[1;33m\u001b[0m\u001b[1;33m\u001b[0m\u001b[0m\n",
      "\u001b[1;31mS3ResponseError\u001b[0m: S3ResponseError: 403 Forbidden\n"
     ]
    }
   ],
   "source": [
    "mybucket = conn.get_bucket('mybucket')\n",
    "mybucket.list()"
   ]
  },
  {
   "cell_type": "code",
   "execution_count": 22,
   "metadata": {
    "collapsed": false
   },
   "outputs": [],
   "source": [
    "from boto.s3.key import Key\n",
    "k = Key(\"patricks3db\")"
   ]
  },
  {
   "cell_type": "code",
   "execution_count": 23,
   "metadata": {
    "collapsed": false
   },
   "outputs": [
    {
     "ename": "AttributeError",
     "evalue": "'str' object has no attribute 'connection'",
     "output_type": "error",
     "traceback": [
      "\u001b[1;31m---------------------------------------------------------------------------\u001b[0m",
      "\u001b[1;31mAttributeError\u001b[0m                            Traceback (most recent call last)",
      "\u001b[1;32m<ipython-input-23-f20d5a20e54c>\u001b[0m in \u001b[0;36m<module>\u001b[1;34m()\u001b[0m\n\u001b[0;32m      1\u001b[0m \u001b[0mk\u001b[0m\u001b[1;33m.\u001b[0m\u001b[0mkey\u001b[0m \u001b[1;33m=\u001b[0m \u001b[1;34m'foobar'\u001b[0m\u001b[1;33m\u001b[0m\u001b[0m\n\u001b[1;32m----> 2\u001b[1;33m \u001b[0mk\u001b[0m\u001b[1;33m.\u001b[0m\u001b[0mset_contents_from_string\u001b[0m\u001b[1;33m(\u001b[0m\u001b[1;34m'This is a test of S3'\u001b[0m\u001b[1;33m)\u001b[0m\u001b[1;33m\u001b[0m\u001b[0m\n\u001b[0m",
      "\u001b[1;32m/usr/local/lib/python2.7/dist-packages/boto/s3/key.pyc\u001b[0m in \u001b[0;36mset_contents_from_string\u001b[1;34m(self, string_data, headers, replace, cb, num_cb, policy, md5, reduced_redundancy, encrypt_key)\u001b[0m\n\u001b[0;32m   1424\u001b[0m         r = self.set_contents_from_file(fp, headers, replace, cb, num_cb,\n\u001b[0;32m   1425\u001b[0m                                         \u001b[0mpolicy\u001b[0m\u001b[1;33m,\u001b[0m \u001b[0mmd5\u001b[0m\u001b[1;33m,\u001b[0m \u001b[0mreduced_redundancy\u001b[0m\u001b[1;33m,\u001b[0m\u001b[1;33m\u001b[0m\u001b[0m\n\u001b[1;32m-> 1426\u001b[1;33m                                         encrypt_key=encrypt_key)\n\u001b[0m\u001b[0;32m   1427\u001b[0m         \u001b[0mfp\u001b[0m\u001b[1;33m.\u001b[0m\u001b[0mclose\u001b[0m\u001b[1;33m(\u001b[0m\u001b[1;33m)\u001b[0m\u001b[1;33m\u001b[0m\u001b[0m\n\u001b[0;32m   1428\u001b[0m         \u001b[1;32mreturn\u001b[0m \u001b[0mr\u001b[0m\u001b[1;33m\u001b[0m\u001b[0m\n",
      "\u001b[1;32m/usr/local/lib/python2.7/dist-packages/boto/s3/key.pyc\u001b[0m in \u001b[0;36mset_contents_from_file\u001b[1;34m(self, fp, headers, replace, cb, num_cb, policy, md5, reduced_redundancy, query_args, encrypt_key, size, rewind)\u001b[0m\n\u001b[0;32m   1196\u001b[0m         \u001b[1;33m:\u001b[0m\u001b[1;32mreturn\u001b[0m\u001b[1;33m:\u001b[0m \u001b[0mThe\u001b[0m \u001b[0mnumber\u001b[0m \u001b[0mof\u001b[0m \u001b[0mbytes\u001b[0m \u001b[0mwritten\u001b[0m \u001b[0mto\u001b[0m \u001b[0mthe\u001b[0m \u001b[0mkey\u001b[0m\u001b[1;33m.\u001b[0m\u001b[1;33m\u001b[0m\u001b[0m\n\u001b[0;32m   1197\u001b[0m         \"\"\"\n\u001b[1;32m-> 1198\u001b[1;33m         \u001b[0mprovider\u001b[0m \u001b[1;33m=\u001b[0m \u001b[0mself\u001b[0m\u001b[1;33m.\u001b[0m\u001b[0mbucket\u001b[0m\u001b[1;33m.\u001b[0m\u001b[0mconnection\u001b[0m\u001b[1;33m.\u001b[0m\u001b[0mprovider\u001b[0m\u001b[1;33m\u001b[0m\u001b[0m\n\u001b[0m\u001b[0;32m   1199\u001b[0m         \u001b[0mheaders\u001b[0m \u001b[1;33m=\u001b[0m \u001b[0mheaders\u001b[0m \u001b[1;32mor\u001b[0m \u001b[1;33m{\u001b[0m\u001b[1;33m}\u001b[0m\u001b[1;33m\u001b[0m\u001b[0m\n\u001b[0;32m   1200\u001b[0m         \u001b[1;32mif\u001b[0m \u001b[0mpolicy\u001b[0m\u001b[1;33m:\u001b[0m\u001b[1;33m\u001b[0m\u001b[0m\n",
      "\u001b[1;31mAttributeError\u001b[0m: 'str' object has no attribute 'connection'"
     ]
    }
   ],
   "source": [
    "k.key = 'foobar'\n",
    "k.set_contents_from_string('This is a test of S3')"
   ]
  },
  {
   "cell_type": "code",
   "execution_count": null,
   "metadata": {
    "collapsed": true
   },
   "outputs": [],
   "source": []
  }
 ],
 "metadata": {
  "kernelspec": {
   "display_name": "Python 2",
   "language": "python",
   "name": "python2"
  },
  "language_info": {
   "codemirror_mode": {
    "name": "ipython",
    "version": 2
   },
   "file_extension": ".py",
   "mimetype": "text/x-python",
   "name": "python",
   "nbconvert_exporter": "python",
   "pygments_lexer": "ipython2",
   "version": "2.7.6"
  }
 },
 "nbformat": 4,
 "nbformat_minor": 0
}
