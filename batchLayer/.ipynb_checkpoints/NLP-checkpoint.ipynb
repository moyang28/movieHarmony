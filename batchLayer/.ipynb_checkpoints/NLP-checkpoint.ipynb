{
 "cells": [
  {
   "cell_type": "code",
   "execution_count": 2,
   "metadata": {
    "collapsed": false
   },
   "outputs": [],
   "source": [
    "from nltk.corpus import wordnet as wn\n"
   ]
  },
  {
   "cell_type": "code",
   "execution_count": 33,
   "metadata": {
    "collapsed": false
   },
   "outputs": [
    {
     "name": "stdout",
     "output_type": "stream",
     "text": [
      "[Synset('laugh.n.01'), Synset('laugh.n.02'), Synset('joke.n.01'), Synset('laugh.v.01')]\n",
      "\n",
      "[Synset('cry.n.01'), Synset('cry.n.02'), Synset('war_cry.n.01'), Synset('cry.n.04'), Synset('cry.n.05'), Synset('shout.v.02'), Synset('cry.v.02'), Synset('exclaim.v.01'), Synset('cry.v.04'), Synset('cry.v.05'), Synset('cry.v.06'), Synset('cry.v.07')]\n",
      "\n",
      "[Synset('love.n.01'), Synset('love.n.02'), Synset('beloved.n.01'), Synset('love.n.04'), Synset('love.n.05'), Synset('sexual_love.n.02'), Synset('love.v.01'), Synset('love.v.02'), Synset('love.v.03'), Synset('sleep_together.v.01')]\n",
      "\n",
      "[Synset('battle.n.01'), Synset('fight.n.02'), Synset('competitiveness.n.01'), Synset('fight.n.04'), Synset('fight.n.05'), Synset('contend.v.06'), Synset('fight.v.02'), Synset('fight.v.03'), Synset('crusade.v.01')]\n",
      "\n",
      "[Synset('think.n.01'), Synset('think.v.01'), Synset('think.v.02'), Synset('think.v.03'), Synset('remember.v.01'), Synset('think.v.05'), Synset('think.v.06'), Synset('intend.v.01'), Synset('think.v.08'), Synset('think.v.09'), Synset('think.v.10'), Synset('think.v.11'), Synset('think.v.12'), Synset('think.v.13')]\n"
     ]
    }
   ],
   "source": [
    "print wn.synsets('laugh')\n",
    "print\n",
    "print wn.synsets('cry')\n",
    "print \n",
    "print wn.synsets('love')\n",
    "print\n",
    "print wn.synsets('fight')\n",
    "print \n",
    "print wn.synsets('think')"
   ]
  },
  {
   "cell_type": "code",
   "execution_count": 31,
   "metadata": {
    "collapsed": false
   },
   "outputs": [
    {
     "data": {
      "text/plain": [
       "[u'chafe']"
      ]
     },
     "execution_count": 31,
     "metadata": {},
     "output_type": "execute_result"
    }
   ],
   "source": [
    "from nltk.corpus import wordnet as wn\n",
    "import re\n",
    "moodList = wn.synsets('warm')\n",
    "finalMoodList = [list(mood.closure(lambda s: s.hyponyms())) for mood in moodList]\n",
    "finalMoodList = [item.lemma_names() for moodList in finalMoodList for item in moodList]\n",
    "finalMoodList = [item for moodList in finalMoodList for item in moodList]\n",
    "pattern = re.compile(r'[A-Z]|\\_|\\-')\n",
    "finalMoodList = [elem for elem in finalMoodList if not pattern.findall(elem)]\n",
    "#finalMoodList = [list(mood.closure(lambda s: s.hypernyms())) for mood in moodList]\n",
    "finalMoodList = set(finalMoodList)\n",
    "finalMoodList = sorted(finalMoodList)\n",
    "finalMoodList\n",
    "#hypo = lambda s: s.hyponyms()\n",
    "#hyper = lambda s: s.hypernyms()\n",
    "#list(dog.closure(hypo, depth=1)) == dog.hyponyms()\n",
    "#list(dog.closure(hyper, depth=1)) == dog.hypernyms()\n",
    "#list(dog.closure(hypo))"
   ]
  },
  {
   "cell_type": "code",
   "execution_count": 22,
   "metadata": {
    "collapsed": false
   },
   "outputs": [],
   "source": [
    "#wn.morphy('plays')"
   ]
  },
  {
   "cell_type": "code",
   "execution_count": 23,
   "metadata": {
    "collapsed": true
   },
   "outputs": [],
   "source": [
    "testStr = \"I bought this for my husband who plays the piano.  He is having a wonderful time playing these old hymns.  The music  is at times hard to read because we think the book was published for singing from more than playing from.  Great purchase though!\""
   ]
  },
  {
   "cell_type": "code",
   "execution_count": 24,
   "metadata": {
    "collapsed": false
   },
   "outputs": [
    {
     "name": "stdout",
     "output_type": "stream",
     "text": [
      "Counter()\n",
      "0\n"
     ]
    }
   ],
   "source": [
    "from collections import Counter\n",
    "import nltk\n",
    "from nltk.tokenize import TweetTokenizer\n",
    "tknzr = TweetTokenizer(strip_handles=True, reduce_len=True)\n",
    "cnt = Counter()\n",
    "for word in tknzr.tokenize(testStr):\n",
    "    word = wn.morphy(word)\n",
    "    if word in finalMoodList: cnt[word] += 1\n",
    "    #cnt[word] += 1\n",
    "print cnt\n",
    "print sum(cnt.values())"
   ]
  },
  {
   "cell_type": "code",
   "execution_count": 8,
   "metadata": {
    "collapsed": false
   },
   "outputs": [],
   "source": [
    "#reviewerSummaryRDD1 = rating.map(lambda row: (row.asin, row.reviewText))"
   ]
  },
  {
   "cell_type": "code",
   "execution_count": null,
   "metadata": {
    "collapsed": true
   },
   "outputs": [],
   "source": []
  }
 ],
 "metadata": {
  "kernelspec": {
   "display_name": "Python 2",
   "language": "python",
   "name": "python2"
  },
  "language_info": {
   "codemirror_mode": {
    "name": "ipython",
    "version": 2
   },
   "file_extension": ".py",
   "mimetype": "text/x-python",
   "name": "python",
   "nbconvert_exporter": "python",
   "pygments_lexer": "ipython2",
   "version": "2.7.6"
  }
 },
 "nbformat": 4,
 "nbformat_minor": 0
}
