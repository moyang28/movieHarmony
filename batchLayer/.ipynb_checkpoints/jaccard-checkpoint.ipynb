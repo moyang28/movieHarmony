{
 "metadata": {
  "name": ""
 },
 "nbformat": 3,
 "nbformat_minor": 0,
 "worksheets": [
  {
   "cells": [
    {
     "cell_type": "code",
     "collapsed": false,
     "input": [
      "from pyspark.sql import SQLContext\n",
      "from pyspark import SparkContext\n",
      "# sc = SparkContext()\n",
      "sqlContext = SQLContext(sc)\n",
      "df = sqlContext.read.json(\"s3n://patricks3db/reviews_Movies_and_TV_small.json\")\n",
      "#df.printSchema()"
     ],
     "language": "python",
     "metadata": {},
     "outputs": [],
     "prompt_number": 10
    },
    {
     "cell_type": "code",
     "collapsed": false,
     "input": [
      "ratings = df\n",
      "ratings = ratings.drop(\"helpful\")\n",
      "ratings = ratings.drop(\"reviewText\")\n",
      "ratings = ratings.drop(\"reviewTime\")\n",
      "ratings = ratings.drop(\"reviewerName\")\n",
      "ratings = ratings.drop(\"summary\")\n",
      "ratings = ratings.drop(\"unixReviewTime\")\n",
      "#ratings.columns\n",
      "ratings.cache()"
     ],
     "language": "python",
     "metadata": {},
     "outputs": [
      {
       "metadata": {},
       "output_type": "pyout",
       "prompt_number": 11,
       "text": [
        "DataFrame[asin: string, overall: double, reviewerID: string]"
       ]
      }
     ],
     "prompt_number": 11
    },
    {
     "cell_type": "code",
     "collapsed": false,
     "input": [
      "reviewerSummaryRDD1 = ratings.map(lambda row: (row.reviewerID, {(row.asin, row.overall), }))\n",
      "reviewerSummaryRDD2 = reviewerSummaryRDD1.reduceByKey(lambda x, y: x | y)\n",
      "reviewerSummaryRDD3 = reviewerSummaryRDD2.map(lambda x: {\"reviewerID\":x[0], \"reviews\":{item[0]:item[1] for item in x[1]}})\n",
      "def AddToCassandra_allcountsbatch_bypartition(d_iter):\n",
      "        from cqlengine import columns\n",
      "        from cqlengine.models import Model\n",
      "        from cqlengine import connection\n",
      "        from cqlengine.management import sync_table\n",
      "        CASSANDRA_KEYSPACE = \"playground\"\n",
      "        class reviewerProfile(Model):\n",
      "                reviewerID = columns.Text(primary_key=True)\n",
      "                reviews = columns.Map(columns.Text, columns.Float)\n",
      "        connection.setup(['172.31.39.226'], CASSANDRA_KEYSPACE)\n",
      "        sync_table(reviewerProfile)\n",
      "        for d in d_iter:\n",
      "                reviewerProfile.create(**d)\n",
      "\n",
      "# Create table if it does not exist. Need to do this before submitting to Spark to avoid collisions\n",
      "AddToCassandra_allcountsbatch_bypartition([])\n",
      "reviewerSummaryRDD3.foreachPartition(AddToCassandra_allcountsbatch_bypartition)\n"
     ],
     "language": "python",
     "metadata": {},
     "outputs": [],
     "prompt_number": 12
    },
    {
     "cell_type": "code",
     "collapsed": false,
     "input": [
      "productSummaryRDD1 = ratings.map(lambda row: (row.asin, {(row.reviewerID, row.overall), }))\n",
      "productSummaryRDD2 = productSummaryRDD1.reduceByKey(lambda x, y: x | y)\n",
      "productSummaryRDD3 = productSummaryRDD2.map(lambda x: {\"asin\":x[0], \"reviews\":{item[0]:item[1] for item in x[1]}})\n",
      "def AddToCassandra_allcountsbatch_bypartition(d_iter):\n",
      "        from cqlengine import columns\n",
      "        from cqlengine.models import Model\n",
      "        from cqlengine import connection\n",
      "        from cqlengine.management import sync_table\n",
      "        CASSANDRA_KEYSPACE = \"playground\"\n",
      "        class productProfile(Model):\n",
      "                asin = columns.Text(primary_key=True)\n",
      "                reviews = columns.Map(columns.Text, columns.Float)\n",
      "        connection.setup(['172.31.39.226'], CASSANDRA_KEYSPACE)\n",
      "        sync_table(productProfile)\n",
      "        for d in d_iter:\n",
      "                productProfile.create(**d)\n",
      "\n",
      "# Create table if it does not exist. Need to do this before submitting to Spark to avoid collisions\n",
      "AddToCassandra_allcountsbatch_bypartition([])\n",
      "productSummaryRDD3.foreachPartition(AddToCassandra_allcountsbatch_bypartition)\n"
     ],
     "language": "python",
     "metadata": {},
     "outputs": [],
     "prompt_number": 13
    },
    {
     "cell_type": "code",
     "collapsed": false,
     "input": [
      "similarUser1 = ratings.select( \\\n",
      "    ratings.reviewerID.alias('userID') \\\n",
      "    , ratings.asin.alias('productID') \\\n",
      "    , ratings.overall.alias('ratingA') \\\n",
      "    ).cache()\n",
      "similarUser2 = similarUser1.join( \\\n",
      "    ratings \\\n",
      "    , similarUser1.productID == ratings.asin \\\n",
      "        & ((similarUser1.ratingA - ratings.overall) <=  1.0) \\\n",
      "        & ((similarUser1.ratingA - ratings.overall) >= -1.0) \\\n",
      "    ,'inner')\n",
      "similarUser3 = similarUser2.map(lambda input: ((input.userID, input.reviewerID), 1))\n",
      "similarUser4 = similarUser3.reduceByKey(lambda x, y: x + y)"
     ],
     "language": "python",
     "metadata": {},
     "outputs": [],
     "prompt_number": 14
    },
    {
     "cell_type": "code",
     "collapsed": false,
     "input": [
      "similarUser4.take(5)"
     ],
     "language": "python",
     "metadata": {},
     "outputs": [],
     "prompt_number": "*"
    },
    {
     "cell_type": "code",
     "collapsed": false,
     "input": [],
     "language": "python",
     "metadata": {},
     "outputs": []
    }
   ],
   "metadata": {}
  }
 ]
}